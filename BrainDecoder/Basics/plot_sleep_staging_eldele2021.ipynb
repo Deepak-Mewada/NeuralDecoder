{
  "cells": [
    {
      "cell_type": "markdown",
      "metadata": {
        "id": "view-in-github",
        "colab_type": "text"
      },
      "source": [
        "<a href=\"https://colab.research.google.com/github/Deepak-Mewada/NeuralDecoder/blob/main/BrainDecoder/Basics/plot_sleep_staging_eldele2021.ipynb\" target=\"_parent\"><img src=\"https://colab.research.google.com/assets/colab-badge.svg\" alt=\"Open In Colab\"/></a>"
      ]
    },
    {
      "cell_type": "markdown",
      "metadata": {
        "id": "U8qNUlY4egQH"
      },
      "source": [
        "\n",
        "# Sleep staging on the Sleep Physionet dataset using Eldele2021\n",
        "\n",
        "This tutorial shows how to train and test a sleep staging neural network with\n",
        "Braindecode. We use the attention-based model from [1]_ with the time distributed approach of [2]_\n",
        "to learn on sequences of EEG windows using the openly accessible Sleep Physionet dataset [3]_ [4]_.\n"
      ]
    },
    {
      "cell_type": "code",
      "source": [
        "!pip install braindecode"
      ],
      "metadata": {
        "colab": {
          "base_uri": "https://localhost:8080/"
        },
        "id": "a0aq1HDjemCP",
        "outputId": "d1cf2653-db91-42bf-af59-8cd982290849"
      },
      "execution_count": 1,
      "outputs": [
        {
          "output_type": "stream",
          "name": "stdout",
          "text": [
            "Collecting braindecode\n",
            "  Downloading braindecode-0.8.1-py3-none-any.whl (165 kB)\n",
            "\u001b[2K     \u001b[90m━━━━━━━━━━━━━━━━━━━━━━━━━━━━━━━━━━━━━━━━\u001b[0m \u001b[32m165.2/165.2 kB\u001b[0m \u001b[31m2.2 MB/s\u001b[0m eta \u001b[36m0:00:00\u001b[0m\n",
            "\u001b[?25hCollecting mne (from braindecode)\n",
            "  Downloading mne-1.6.0-py3-none-any.whl (8.3 MB)\n",
            "\u001b[2K     \u001b[90m━━━━━━━━━━━━━━━━━━━━━━━━━━━━━━━━━━━━━━━━\u001b[0m \u001b[32m8.3/8.3 MB\u001b[0m \u001b[31m17.6 MB/s\u001b[0m eta \u001b[36m0:00:00\u001b[0m\n",
            "\u001b[?25hRequirement already satisfied: numpy in /usr/local/lib/python3.10/dist-packages (from braindecode) (1.23.5)\n",
            "Requirement already satisfied: pandas in /usr/local/lib/python3.10/dist-packages (from braindecode) (1.5.3)\n",
            "Requirement already satisfied: scipy in /usr/local/lib/python3.10/dist-packages (from braindecode) (1.11.4)\n",
            "Requirement already satisfied: matplotlib in /usr/local/lib/python3.10/dist-packages (from braindecode) (3.7.1)\n",
            "Requirement already satisfied: h5py in /usr/local/lib/python3.10/dist-packages (from braindecode) (3.9.0)\n",
            "Collecting skorch (from braindecode)\n",
            "  Downloading skorch-0.15.0-py3-none-any.whl (239 kB)\n",
            "\u001b[2K     \u001b[90m━━━━━━━━━━━━━━━━━━━━━━━━━━━━━━━━━━━━━━━━\u001b[0m \u001b[32m239.3/239.3 kB\u001b[0m \u001b[31m16.2 MB/s\u001b[0m eta \u001b[36m0:00:00\u001b[0m\n",
            "\u001b[?25hRequirement already satisfied: torch in /usr/local/lib/python3.10/dist-packages (from braindecode) (2.1.0+cu121)\n",
            "Collecting einops (from braindecode)\n",
            "  Downloading einops-0.7.0-py3-none-any.whl (44 kB)\n",
            "\u001b[2K     \u001b[90m━━━━━━━━━━━━━━━━━━━━━━━━━━━━━━━━━━━━━━━━\u001b[0m \u001b[32m44.6/44.6 kB\u001b[0m \u001b[31m3.6 MB/s\u001b[0m eta \u001b[36m0:00:00\u001b[0m\n",
            "\u001b[?25hRequirement already satisfied: joblib in /usr/local/lib/python3.10/dist-packages (from braindecode) (1.3.2)\n",
            "Collecting torchinfo (from braindecode)\n",
            "  Downloading torchinfo-1.8.0-py3-none-any.whl (23 kB)\n",
            "Collecting docstring-inheritance (from braindecode)\n",
            "  Downloading docstring_inheritance-2.1.2-py3-none-any.whl (21 kB)\n",
            "Requirement already satisfied: contourpy>=1.0.1 in /usr/local/lib/python3.10/dist-packages (from matplotlib->braindecode) (1.2.0)\n",
            "Requirement already satisfied: cycler>=0.10 in /usr/local/lib/python3.10/dist-packages (from matplotlib->braindecode) (0.12.1)\n",
            "Requirement already satisfied: fonttools>=4.22.0 in /usr/local/lib/python3.10/dist-packages (from matplotlib->braindecode) (4.47.0)\n",
            "Requirement already satisfied: kiwisolver>=1.0.1 in /usr/local/lib/python3.10/dist-packages (from matplotlib->braindecode) (1.4.5)\n",
            "Requirement already satisfied: packaging>=20.0 in /usr/local/lib/python3.10/dist-packages (from matplotlib->braindecode) (23.2)\n",
            "Requirement already satisfied: pillow>=6.2.0 in /usr/local/lib/python3.10/dist-packages (from matplotlib->braindecode) (9.4.0)\n",
            "Requirement already satisfied: pyparsing>=2.3.1 in /usr/local/lib/python3.10/dist-packages (from matplotlib->braindecode) (3.1.1)\n",
            "Requirement already satisfied: python-dateutil>=2.7 in /usr/local/lib/python3.10/dist-packages (from matplotlib->braindecode) (2.8.2)\n",
            "Requirement already satisfied: tqdm in /usr/local/lib/python3.10/dist-packages (from mne->braindecode) (4.66.1)\n",
            "Requirement already satisfied: pooch>=1.5 in /usr/local/lib/python3.10/dist-packages (from mne->braindecode) (1.8.0)\n",
            "Requirement already satisfied: decorator in /usr/local/lib/python3.10/dist-packages (from mne->braindecode) (4.4.2)\n",
            "Requirement already satisfied: jinja2 in /usr/local/lib/python3.10/dist-packages (from mne->braindecode) (3.1.2)\n",
            "Requirement already satisfied: lazy-loader>=0.3 in /usr/local/lib/python3.10/dist-packages (from mne->braindecode) (0.3)\n",
            "Requirement already satisfied: defusedxml in /usr/local/lib/python3.10/dist-packages (from mne->braindecode) (0.7.1)\n",
            "Requirement already satisfied: pytz>=2020.1 in /usr/local/lib/python3.10/dist-packages (from pandas->braindecode) (2023.3.post1)\n",
            "Requirement already satisfied: scikit-learn>=0.22.0 in /usr/local/lib/python3.10/dist-packages (from skorch->braindecode) (1.2.2)\n",
            "Requirement already satisfied: tabulate>=0.7.7 in /usr/local/lib/python3.10/dist-packages (from skorch->braindecode) (0.9.0)\n",
            "Requirement already satisfied: filelock in /usr/local/lib/python3.10/dist-packages (from torch->braindecode) (3.13.1)\n",
            "Requirement already satisfied: typing-extensions in /usr/local/lib/python3.10/dist-packages (from torch->braindecode) (4.5.0)\n",
            "Requirement already satisfied: sympy in /usr/local/lib/python3.10/dist-packages (from torch->braindecode) (1.12)\n",
            "Requirement already satisfied: networkx in /usr/local/lib/python3.10/dist-packages (from torch->braindecode) (3.2.1)\n",
            "Requirement already satisfied: fsspec in /usr/local/lib/python3.10/dist-packages (from torch->braindecode) (2023.6.0)\n",
            "Requirement already satisfied: triton==2.1.0 in /usr/local/lib/python3.10/dist-packages (from torch->braindecode) (2.1.0)\n",
            "Requirement already satisfied: platformdirs>=2.5.0 in /usr/local/lib/python3.10/dist-packages (from pooch>=1.5->mne->braindecode) (4.1.0)\n",
            "Requirement already satisfied: requests>=2.19.0 in /usr/local/lib/python3.10/dist-packages (from pooch>=1.5->mne->braindecode) (2.31.0)\n",
            "Requirement already satisfied: six>=1.5 in /usr/local/lib/python3.10/dist-packages (from python-dateutil>=2.7->matplotlib->braindecode) (1.16.0)\n",
            "Requirement already satisfied: threadpoolctl>=2.0.0 in /usr/local/lib/python3.10/dist-packages (from scikit-learn>=0.22.0->skorch->braindecode) (3.2.0)\n",
            "Requirement already satisfied: MarkupSafe>=2.0 in /usr/local/lib/python3.10/dist-packages (from jinja2->mne->braindecode) (2.1.3)\n",
            "Requirement already satisfied: mpmath>=0.19 in /usr/local/lib/python3.10/dist-packages (from sympy->torch->braindecode) (1.3.0)\n",
            "Requirement already satisfied: charset-normalizer<4,>=2 in /usr/local/lib/python3.10/dist-packages (from requests>=2.19.0->pooch>=1.5->mne->braindecode) (3.3.2)\n",
            "Requirement already satisfied: idna<4,>=2.5 in /usr/local/lib/python3.10/dist-packages (from requests>=2.19.0->pooch>=1.5->mne->braindecode) (3.6)\n",
            "Requirement already satisfied: urllib3<3,>=1.21.1 in /usr/local/lib/python3.10/dist-packages (from requests>=2.19.0->pooch>=1.5->mne->braindecode) (2.0.7)\n",
            "Requirement already satisfied: certifi>=2017.4.17 in /usr/local/lib/python3.10/dist-packages (from requests>=2.19.0->pooch>=1.5->mne->braindecode) (2023.11.17)\n",
            "Installing collected packages: torchinfo, einops, docstring-inheritance, skorch, mne, braindecode\n",
            "Successfully installed braindecode-0.8.1 docstring-inheritance-2.1.2 einops-0.7.0 mne-1.6.0 skorch-0.15.0 torchinfo-1.8.0\n"
          ]
        }
      ]
    },
    {
      "cell_type": "markdown",
      "metadata": {
        "id": "AMTjJfrzegQW"
      },
      "source": [
        "## Loading and preprocessing the dataset\n",
        "\n",
        "### Loading\n",
        "\n",
        "First, we load the data using the\n",
        ":class:`braindecode.datasets.sleep_physionet.SleepPhysionet` class. We load\n",
        "two recordings from two different individuals: we will use the first one to\n",
        "train our network and the second one to evaluate performance (as in the `MNE`_\n",
        "sleep staging example).\n",
        "\n",
        "\n",
        "\n"
      ]
    },
    {
      "cell_type": "code",
      "execution_count": 2,
      "metadata": {
        "colab": {
          "base_uri": "https://localhost:8080/"
        },
        "id": "WVbWtCHHegQX",
        "outputId": "e37149dd-af97-4701-e4ac-a63fb41a83ba"
      },
      "outputs": [
        {
          "output_type": "stream",
          "name": "stdout",
          "text": [
            "Using default location ~/mne_data for PHYSIONET_SLEEP...\n",
            "Creating ~/mne_data\n"
          ]
        },
        {
          "output_type": "stream",
          "name": "stderr",
          "text": [
            "Downloading data from 'https://physionet.org/physiobank/database/sleep-edfx/sleep-cassette//SC4002E0-PSG.edf' to file '/root/mne_data/physionet-sleep-data/SC4002E0-PSG.edf'.\n",
            "100%|█████████████████████████████████████| 51.6M/51.6M [00:00<00:00, 27.4GB/s]\n",
            "Downloading data from 'https://physionet.org/physiobank/database/sleep-edfx/sleep-cassette//SC4002EC-Hypnogram.edf' to file '/root/mne_data/physionet-sleep-data/SC4002EC-Hypnogram.edf'.\n",
            "100%|█████████████████████████████████████| 4.58k/4.58k [00:00<00:00, 1.12MB/s]\n",
            "Downloading data from 'https://physionet.org/physiobank/database/sleep-edfx/sleep-cassette//SC4012E0-PSG.edf' to file '/root/mne_data/physionet-sleep-data/SC4012E0-PSG.edf'.\n",
            "100%|█████████████████████████████████████| 52.0M/52.0M [00:00<00:00, 16.5GB/s]\n",
            "Downloading data from 'https://physionet.org/physiobank/database/sleep-edfx/sleep-cassette//SC4012EC-Hypnogram.edf' to file '/root/mne_data/physionet-sleep-data/SC4012EC-Hypnogram.edf'.\n",
            "100%|█████████████████████████████████████| 5.08k/5.08k [00:00<00:00, 2.47MB/s]"
          ]
        },
        {
          "output_type": "stream",
          "name": "stdout",
          "text": [
            "Download complete in 01m43s (98.8 MB)\n",
            "Extracting EDF parameters from /root/mne_data/physionet-sleep-data/SC4002E0-PSG.edf...\n",
            "EDF file detected\n",
            "Setting channel info structure...\n",
            "Creating raw.info structure...\n"
          ]
        },
        {
          "output_type": "stream",
          "name": "stderr",
          "text": [
            "\n"
          ]
        },
        {
          "output_type": "stream",
          "name": "stdout",
          "text": [
            "Extracting EDF parameters from /root/mne_data/physionet-sleep-data/SC4012E0-PSG.edf...\n",
            "EDF file detected\n",
            "Setting channel info structure...\n",
            "Creating raw.info structure...\n"
          ]
        }
      ],
      "source": [
        "from numbers import Integral\n",
        "from braindecode.datasets import SleepPhysionet\n",
        "\n",
        "subject_ids = [0, 1]\n",
        "crop = (0, 30 * 400)  # we only keep 400 windows of 30s to speed example\n",
        "dataset = SleepPhysionet(\n",
        "    subject_ids=subject_ids, recording_ids=[2], crop_wake_mins=30,\n",
        "    crop=crop)"
      ]
    },
    {
      "cell_type": "markdown",
      "metadata": {
        "id": "Vd8GR6d8egQY"
      },
      "source": [
        "### Preprocessing\n",
        "\n",
        "Next, we preprocess the raw data. We convert the data to microvolts and apply\n",
        "a lowpass filter.\n",
        "\n"
      ]
    },
    {
      "cell_type": "code",
      "execution_count": 3,
      "metadata": {
        "colab": {
          "base_uri": "https://localhost:8080/"
        },
        "id": "ASeDRfpyegQZ",
        "outputId": "a98757a0-3204-450c-a29b-fbe629db3367"
      },
      "outputs": [
        {
          "output_type": "stream",
          "name": "stdout",
          "text": [
            "Reading 0 ... 1200000  =      0.000 ... 12000.000 secs...\n",
            "Filtering raw data in 1 contiguous segment\n",
            "Setting up low-pass filter at 30 Hz\n",
            "\n",
            "FIR filter parameters\n",
            "---------------------\n",
            "Designing a one-pass, zero-phase, non-causal lowpass filter:\n",
            "- Windowed time-domain design (firwin) method\n",
            "- Hamming window with 0.0194 passband ripple and 53 dB stopband attenuation\n",
            "- Upper passband edge: 30.00 Hz\n",
            "- Upper transition bandwidth: 7.50 Hz (-6 dB cutoff frequency: 33.75 Hz)\n",
            "- Filter length: 45 samples (0.450 s)\n",
            "\n"
          ]
        },
        {
          "output_type": "stream",
          "name": "stderr",
          "text": [
            "/usr/local/lib/python3.10/dist-packages/braindecode/preprocessing/preprocess.py:55: UserWarning: Preprocessing choices with lambda functions cannot be saved.\n",
            "  warn('Preprocessing choices with lambda functions cannot be saved.')\n"
          ]
        },
        {
          "output_type": "stream",
          "name": "stdout",
          "text": [
            "Reading 0 ... 1200000  =      0.000 ... 12000.000 secs...\n",
            "Filtering raw data in 1 contiguous segment\n",
            "Setting up low-pass filter at 30 Hz\n",
            "\n",
            "FIR filter parameters\n",
            "---------------------\n",
            "Designing a one-pass, zero-phase, non-causal lowpass filter:\n",
            "- Windowed time-domain design (firwin) method\n",
            "- Hamming window with 0.0194 passband ripple and 53 dB stopband attenuation\n",
            "- Upper passband edge: 30.00 Hz\n",
            "- Upper transition bandwidth: 7.50 Hz (-6 dB cutoff frequency: 33.75 Hz)\n",
            "- Filter length: 45 samples (0.450 s)\n",
            "\n"
          ]
        },
        {
          "output_type": "execute_result",
          "data": {
            "text/plain": [
              "<braindecode.datasets.sleep_physionet.SleepPhysionet at 0x7eb327084a00>"
            ]
          },
          "metadata": {},
          "execution_count": 3
        }
      ],
      "source": [
        "from braindecode.preprocessing import preprocess, Preprocessor\n",
        "from numpy import multiply\n",
        "\n",
        "high_cut_hz = 30\n",
        "# Factor to convert from V to uV\n",
        "factor = 1e6\n",
        "\n",
        "preprocessors = [\n",
        "    Preprocessor(lambda data: multiply(data, factor), apply_on_array=True),  # Convert from V to uV\n",
        "    Preprocessor('filter', l_freq=None, h_freq=high_cut_hz)\n",
        "]\n",
        "\n",
        "# Transform the data\n",
        "preprocess(dataset, preprocessors)"
      ]
    },
    {
      "cell_type": "markdown",
      "metadata": {
        "id": "AzyRk9igegQa"
      },
      "source": [
        "### Extract windows\n",
        "\n",
        "We extract 30-s windows to be used in the classification task.\n",
        "The Eldele2021 model takes a single channel as input. Here, the Fpz-Cz channel is used as it\n",
        "was found to give better performance than using the Pz-Oz channel\n",
        "\n"
      ]
    },
    {
      "cell_type": "code",
      "execution_count": 4,
      "metadata": {
        "colab": {
          "base_uri": "https://localhost:8080/"
        },
        "id": "NR1n3gYpegQb",
        "outputId": "cf4749c8-a8c6-425a-87bd-431e3e39ecfc"
      },
      "outputs": [
        {
          "output_type": "stream",
          "name": "stdout",
          "text": [
            "Used Annotations descriptions: ['Sleep stage 1', 'Sleep stage 2', 'Sleep stage 3', 'Sleep stage 4', 'Sleep stage R', 'Sleep stage W']\n"
          ]
        },
        {
          "output_type": "stream",
          "name": "stderr",
          "text": [
            "/usr/local/lib/python3.10/dist-packages/braindecode/preprocessing/windowers.py:130: UserWarning: Using reject or picks or flat or dropping bad windows means mne Epochs are created, which will be substantially slower and may be deprecated in the future.\n",
            "  warnings.warn('Using reject or picks or flat or dropping bad windows means '\n"
          ]
        },
        {
          "output_type": "stream",
          "name": "stdout",
          "text": [
            "Used Annotations descriptions: ['Sleep stage 1', 'Sleep stage 2', 'Sleep stage 3', 'Sleep stage 4', 'Sleep stage R', 'Sleep stage W']\n"
          ]
        }
      ],
      "source": [
        "from braindecode.preprocessing import create_windows_from_events\n",
        "\n",
        "mapping = {  # We merge stages 3 and 4 following AASM standards.\n",
        "    'Sleep stage W': 0,\n",
        "    'Sleep stage 1': 1,\n",
        "    'Sleep stage 2': 2,\n",
        "    'Sleep stage 3': 3,\n",
        "    'Sleep stage 4': 3,\n",
        "    'Sleep stage R': 4\n",
        "}\n",
        "\n",
        "window_size_s = 30\n",
        "sfreq = 100\n",
        "window_size_samples = window_size_s * sfreq\n",
        "\n",
        "windows_dataset = create_windows_from_events(\n",
        "    dataset,\n",
        "    trial_start_offset_samples=0,\n",
        "    trial_stop_offset_samples=0,\n",
        "    window_size_samples=window_size_samples,\n",
        "    window_stride_samples=window_size_samples,\n",
        "    picks=\"Fpz-Cz\",  # the other option is Pz-Oz,\n",
        "    preload=True,\n",
        "    mapping=mapping\n",
        ")"
      ]
    },
    {
      "cell_type": "markdown",
      "metadata": {
        "id": "iDNTuJYtegQd"
      },
      "source": [
        "### Window preprocessing\n",
        "\n",
        "We also preprocess the windows by applying channel-wise z-score normalization\n",
        "in each window.\n",
        "\n"
      ]
    },
    {
      "cell_type": "code",
      "execution_count": 5,
      "metadata": {
        "colab": {
          "base_uri": "https://localhost:8080/"
        },
        "id": "qi-rX8LHegQf",
        "outputId": "03345b8b-099f-4626-ab39-a0956adedc7b"
      },
      "outputs": [
        {
          "output_type": "execute_result",
          "data": {
            "text/plain": [
              "<braindecode.datasets.base.BaseConcatDataset at 0x7eb327084430>"
            ]
          },
          "metadata": {},
          "execution_count": 5
        }
      ],
      "source": [
        "from sklearn.preprocessing import scale as standard_scale\n",
        "\n",
        "preprocess(windows_dataset, [Preprocessor(standard_scale, channel_wise=True)])"
      ]
    },
    {
      "cell_type": "markdown",
      "metadata": {
        "id": "65IzEhAzegQg"
      },
      "source": [
        "### Split dataset into train and valid\n",
        "\n",
        "We split the dataset into training and validation set taking\n",
        "every other subject as train or valid.\n",
        "\n"
      ]
    },
    {
      "cell_type": "code",
      "execution_count": 6,
      "metadata": {
        "id": "pX2saOmhegQi"
      },
      "outputs": [],
      "source": [
        "split_ids = dict(train=subject_ids[::2], valid=subject_ids[1::2])\n",
        "splits = windows_dataset.split(split_ids)\n",
        "train_set, valid_set = splits[\"train\"], splits[\"valid\"]"
      ]
    },
    {
      "cell_type": "markdown",
      "metadata": {
        "id": "S_qmDnC3egQi"
      },
      "source": [
        "## Create sequence samplers\n",
        "\n",
        "Following the time distributed approach of [2]_, we need to provide our\n",
        "neural network with sequences of windows, such that the embeddings of\n",
        "multiple consecutive windows can be concatenated and provided to a final\n",
        "classifier. We can achieve this by defining Sampler objects that return\n",
        "sequences of window indices.\n",
        "To simplify the example, we train the whole model end-to-end on sequences,\n",
        "rather than using the two-step approach of [2]_ (i.e. training the feature\n",
        "extractor on single windows, then freezing its weights and training the\n",
        "classifier).\n",
        "\n",
        "\n"
      ]
    },
    {
      "cell_type": "code",
      "execution_count": 7,
      "metadata": {
        "colab": {
          "base_uri": "https://localhost:8080/"
        },
        "id": "hY90FxKXegQj",
        "outputId": "3741591e-39fe-43e7-a1f8-967b0b1bccb7"
      },
      "outputs": [
        {
          "output_type": "stream",
          "name": "stdout",
          "text": [
            "Training examples:  133\n",
            "Validation examples:  133\n"
          ]
        }
      ],
      "source": [
        "from braindecode.samplers import SequenceSampler\n",
        "\n",
        "n_windows = 3  # Sequences of 3 consecutive windows\n",
        "n_windows_stride = 3  # Maximally overlapping sequences\n",
        "\n",
        "train_sampler = SequenceSampler(\n",
        "    train_set.get_metadata(), n_windows, n_windows_stride, randomize=True\n",
        ")\n",
        "valid_sampler = SequenceSampler(valid_set.get_metadata(), n_windows, n_windows_stride)\n",
        "\n",
        "# Print number of examples per class\n",
        "print('Training examples: ', len(train_sampler))\n",
        "print('Validation examples: ', len(valid_sampler))"
      ]
    },
    {
      "cell_type": "markdown",
      "metadata": {
        "id": "wpD1JZEWegQk"
      },
      "source": [
        "We also implement a transform to extract the label of the center window of a\n",
        "sequence to use it as target.\n",
        "\n"
      ]
    },
    {
      "cell_type": "code",
      "execution_count": 8,
      "metadata": {
        "id": "FVk9vd94egQl"
      },
      "outputs": [],
      "source": [
        "import numpy as np\n",
        "\n",
        "\n",
        "# Use label of center window in the sequence\n",
        "def get_center_label(x):\n",
        "    if isinstance(x, Integral):\n",
        "        return x\n",
        "    return x[np.ceil(len(x) / 2).astype(int)] if len(x) > 1 else x\n",
        "\n",
        "\n",
        "train_set.target_transform = get_center_label\n",
        "valid_set.target_transform = get_center_label"
      ]
    },
    {
      "cell_type": "markdown",
      "metadata": {
        "id": "Tr1S7QD5egQl"
      },
      "source": [
        "Finally, since some sleep stages appear a lot more often than others (e.g.\n",
        "most of the night is spent in the N2 stage), the classes are imbalanced. To\n",
        "avoid overfitting on the more frequent classes, we compute weights that we\n",
        "will provide to the loss function when training.\n",
        "\n"
      ]
    },
    {
      "cell_type": "code",
      "execution_count": 9,
      "metadata": {
        "id": "Hd8p_x2UegQm"
      },
      "outputs": [],
      "source": [
        "from sklearn.utils import compute_class_weight\n",
        "\n",
        "y_train = [train_set[idx][1] for idx in train_sampler]\n",
        "class_weights = compute_class_weight('balanced', classes=np.unique(y_train), y=y_train)"
      ]
    },
    {
      "cell_type": "markdown",
      "metadata": {
        "id": "uc6CSxXhegQn"
      },
      "source": [
        "## Create model\n",
        "\n",
        "We can now create the deep learning model. In this tutorial, we use the sleep\n",
        "staging architecture introduced in [1]_, which is an attention-based\n",
        "neural network. We use the time distributed version of the model, where the\n",
        "feature vectors of a sequence of windows are concatenated and passed to a\n",
        "linear layer for classification.\n",
        "\n",
        "\n"
      ]
    },
    {
      "cell_type": "code",
      "execution_count": 10,
      "metadata": {
        "id": "ROft4c4iegQn"
      },
      "outputs": [],
      "source": [
        "import torch\n",
        "from torch import nn\n",
        "from braindecode.util import set_random_seeds\n",
        "from braindecode.models import SleepStagerEldele2021, TimeDistributed\n",
        "\n",
        "cuda = torch.cuda.is_available()  # check if GPU is available\n",
        "device = 'cuda' if torch.cuda.is_available() else 'cpu'\n",
        "if cuda:\n",
        "    torch.backends.cudnn.benchmark = True\n",
        "# Set random seed to be able to reproduce results\n",
        "set_random_seeds(seed=31, cuda=cuda)\n",
        "\n",
        "n_classes = 5\n",
        "# Extract number of channels and time steps from dataset\n",
        "n_channels, input_size_samples = train_set[0][0].shape\n",
        "\n",
        "feat_extractor = SleepStagerEldele2021(\n",
        "    sfreq,\n",
        "    n_outputs=n_classes,\n",
        "    n_times=input_size_samples,\n",
        "    return_feats=True,\n",
        ")\n",
        "\n",
        "model = nn.Sequential(\n",
        "    TimeDistributed(feat_extractor),  # apply model on each 30-s window\n",
        "    nn.Sequential(  # apply linear layer on concatenated feature vectors\n",
        "        nn.Flatten(start_dim=1),\n",
        "        nn.Dropout(0.5),\n",
        "        nn.Linear(feat_extractor.len_last_layer * n_windows, n_classes)\n",
        "    )\n",
        ")\n",
        "\n",
        "# Send model to GPU\n",
        "if cuda:\n",
        "    model.cuda()"
      ]
    },
    {
      "cell_type": "markdown",
      "metadata": {
        "id": "CZ_AgrtWegQo"
      },
      "source": [
        "## Training\n",
        "\n",
        "We can now train our network. :class:`braindecode.EEGClassifier` is a\n",
        "braindecode object that is responsible for managing the training of neural\n",
        "networks. It inherits from :class:`skorch.NeuralNetClassifier`, so the\n",
        "training logic is the same as in\n",
        "[Skorch](https://skorch.readthedocs.io/en/stable/)_.\n",
        "\n",
        "\n"
      ]
    },
    {
      "cell_type": "code",
      "execution_count": 11,
      "metadata": {
        "colab": {
          "base_uri": "https://localhost:8080/"
        },
        "id": "0SDPg3XIegQp",
        "outputId": "81431b9c-3e17-4f1f-9e80-c305c4f11e0c"
      },
      "outputs": [
        {
          "output_type": "stream",
          "name": "stdout",
          "text": [
            "  epoch    train_bal_acc    train_loss    valid_acc    valid_bal_acc    valid_loss     dur\n",
            "-------  ---------------  ------------  -----------  ---------------  ------------  ------\n",
            "      1           \u001b[36m0.1471\u001b[0m        \u001b[32m3.1803\u001b[0m       \u001b[35m0.3158\u001b[0m           \u001b[31m0.1706\u001b[0m        \u001b[94m3.4826\u001b[0m  8.8400\n",
            "      2           \u001b[36m0.2712\u001b[0m        \u001b[32m1.8686\u001b[0m       0.2030           \u001b[31m0.2255\u001b[0m        \u001b[94m2.1791\u001b[0m  13.2197\n",
            "      3           \u001b[36m0.4702\u001b[0m        \u001b[32m1.4849\u001b[0m       0.2256           0.2200        4.2129  12.3060\n"
          ]
        },
        {
          "output_type": "execute_result",
          "data": {
            "text/plain": [
              "<class 'braindecode.classifier.EEGClassifier'>[initialized](\n",
              "  module_=Sequential(\n",
              "    (0): TimeDistributed(\n",
              "      (module): SleepStagerEldele2021(\n",
              "        (feature_extractor): Sequential(\n",
              "          (0): _MRCNN(\n",
              "            (GELU): GELU(approximate='none')\n",
              "            (features1): Sequential(\n",
              "              (0): Conv1d(1, 64, kernel_size=(50,), stride=(6,), padding=(24,), bias=False)\n",
              "              (1): BatchNorm1d(64, eps=1e-05, momentum=0.1, affine=True, track_running_stats=True)\n",
              "              (2): GELU(approximate='none')\n",
              "              (3): MaxPool1d(kernel_size=8, stride=2, padding=4, dilation=1, ceil_mode=False)\n",
              "              (4): Dropout(p=0.5, inplace=False)\n",
              "              (5): Conv1d(64, 128, kernel_size=(8,), stride=(1,), padding=(4,), bias=False)\n",
              "              (6): BatchNorm1d(128, eps=1e-05, momentum=0.1, affine=True, track_running_stats=True)\n",
              "              (7): GELU(approximate='none')\n",
              "              (8): Conv1d(128, 128, kernel_size=(8,), stride=(1,), padding=(4,), bias=False)\n",
              "              (9): BatchNorm1d(128, eps=1e-05, momentum=0.1, affine=True, track_running_stats=True)\n",
              "              (10): GELU(approximate='none')\n",
              "              (11): MaxPool1d(kernel_size=4, stride=4, padding=2, dilation=1, ceil_mode=False)\n",
              "            )\n",
              "            (features2): Sequential(\n",
              "              (0): Conv1d(1, 64, kernel_size=(400,), stride=(50,), padding=(200,), bias=False)\n",
              "              (1): BatchNorm1d(64, eps=1e-05, momentum=0.1, affine=True, track_running_stats=True)\n",
              "              (2): GELU(approximate='none')\n",
              "              (3): MaxPool1d(kernel_size=4, stride=2, padding=2, dilation=1, ceil_mode=False)\n",
              "              (4): Dropout(p=0.5, inplace=False)\n",
              "              (5): Conv1d(64, 128, kernel_size=(7,), stride=(1,), padding=(3,), bias=False)\n",
              "              (6): BatchNorm1d(128, eps=1e-05, momentum=0.1, affine=True, track_running_stats=True)\n",
              "              (7): GELU(approximate='none')\n",
              "              (8): Conv1d(128, 128, kernel_size=(7,), stride=(1,), padding=(3,), bias=False)\n",
              "              (9): BatchNorm1d(128, eps=1e-05, momentum=0.1, affine=True, track_running_stats=True)\n",
              "              (10): GELU(approximate='none')\n",
              "              (11): MaxPool1d(kernel_size=2, stride=2, padding=1, dilation=1, ceil_mode=False)\n",
              "            )\n",
              "            (dropout): Dropout(p=0.5, inplace=False)\n",
              "            (AFR): Sequential(\n",
              "              (0): _SEBasicBlock(\n",
              "                (conv1): Conv1d(128, 30, kernel_size=(1,), stride=(1,))\n",
              "                (bn1): BatchNorm1d(30, eps=1e-05, momentum=0.1, affine=True, track_running_stats=True)\n",
              "                (relu): ReLU(inplace=True)\n",
              "                (conv2): Conv1d(30, 30, kernel_size=(1,), stride=(1,))\n",
              "                (bn2): BatchNorm1d(30, eps=1e-05, momentum=0.1, affine=True, track_running_stats=True)\n",
              "                (se): _SELayer(\n",
              "                  (avg_pool): AdaptiveAvgPool1d(output_size=1)\n",
              "                  (fc): Sequential(\n",
              "                    (0): Linear(in_features=30, out_features=1, bias=False)\n",
              "                    (1): ReLU(inplace=True)\n",
              "                    (2): Linear(in_features=1, out_features=30, bias=False)\n",
              "                    (3): Sigmoid()\n",
              "                  )\n",
              "                )\n",
              "                (downsample): Sequential(\n",
              "                  (0): Conv1d(128, 30, kernel_size=(1,), stride=(1,), bias=False)\n",
              "                  (1): BatchNorm1d(30, eps=1e-05, momentum=0.1, affine=True, track_running_stats=True)\n",
              "                )\n",
              "                (features): Sequential(\n",
              "                  (0): Conv1d(128, 30, kernel_size=(1,), stride=(1,))\n",
              "                  (1): BatchNorm1d(30, eps=1e-05, momentum=0.1, affine=True, track_running_stats=True)\n",
              "                  (2): ReLU(inplace=True)\n",
              "                  (3): Conv1d(30, 30, kernel_size=(1,), stride=(1,))\n",
              "                  (4): BatchNorm1d(30, eps=1e-05, momentum=0.1, affine=True, track_running_stats=True)\n",
              "                  (5): _SELayer(\n",
              "                    (avg_pool): AdaptiveAvgPool1d(output_size=1)\n",
              "                    (fc): Sequential(\n",
              "                      (0): Linear(in_features=30, out_features=1, bias=False)\n",
              "                      (1): ReLU(inplace=True)\n",
              "                      (2): Linear(in_features=1, out_features=30, bias=False)\n",
              "                      (3): Sigmoid()\n",
              "                    )\n",
              "                  )\n",
              "                )\n",
              "              )\n",
              "            )\n",
              "          )\n",
              "          (1): _TCE(\n",
              "            (layers): ModuleList(\n",
              "              (0-1): 2 x _EncoderLayer(\n",
              "                (self_attn): _MultiHeadedAttention(\n",
              "                  (convs): ModuleList(\n",
              "                    (0-2): 3 x _CausalConv1d(30, 30, kernel_size=(7,), stride=(1,), padding=(6,))\n",
              "                  )\n",
              "                  (linear): Linear(in_features=80, out_features=80, bias=True)\n",
              "                  (dropout): Dropout(p=0.1, inplace=False)\n",
              "                )\n",
              "                (feed_forward): _PositionwiseFeedForward(\n",
              "                  (w_1): Linear(in_features=80, out_features=120, bias=True)\n",
              "                  (w_2): Linear(in_features=120, out_features=80, bias=True)\n",
              "                  (dropout): Dropout(p=0.1, inplace=False)\n",
              "                )\n",
              "                (sublayer_output): ModuleList(\n",
              "                  (0-1): 2 x _SublayerOutput(\n",
              "                    (norm): LayerNorm((80,), eps=1e-06, elementwise_affine=True)\n",
              "                    (dropout): Dropout(p=0.1, inplace=False)\n",
              "                  )\n",
              "                )\n",
              "                (conv): _CausalConv1d(30, 30, kernel_size=(7,), stride=(1,), padding=(6,))\n",
              "              )\n",
              "            )\n",
              "            (norm): LayerNorm((80,), eps=1e-06, elementwise_affine=True)\n",
              "          )\n",
              "        )\n",
              "      )\n",
              "    )\n",
              "    (1): Sequential(\n",
              "      (0): Flatten(start_dim=1, end_dim=-1)\n",
              "      (1): Dropout(p=0.5, inplace=False)\n",
              "      (2): Linear(in_features=7200, out_features=5, bias=True)\n",
              "    )\n",
              "  ),\n",
              ")"
            ]
          },
          "metadata": {},
          "execution_count": 11
        }
      ],
      "source": [
        "from skorch.helper import predefined_split\n",
        "from skorch.callbacks import EpochScoring\n",
        "from braindecode import EEGClassifier\n",
        "\n",
        "lr = 1e-3\n",
        "batch_size = 32\n",
        "n_epochs = 3  # we use few epochs for speed and but more than one for plotting\n",
        "\n",
        "train_bal_acc = EpochScoring(\n",
        "    scoring='balanced_accuracy', on_train=True, name='train_bal_acc',\n",
        "    lower_is_better=False)\n",
        "valid_bal_acc = EpochScoring(\n",
        "    scoring='balanced_accuracy', on_train=False, name='valid_bal_acc',\n",
        "    lower_is_better=False)\n",
        "callbacks = [\n",
        "    ('train_bal_acc', train_bal_acc),\n",
        "    ('valid_bal_acc', valid_bal_acc)\n",
        "]\n",
        "\n",
        "clf = EEGClassifier(\n",
        "    model,\n",
        "    criterion=torch.nn.CrossEntropyLoss,\n",
        "    criterion__weight=torch.Tensor(class_weights).to(device),\n",
        "    optimizer=torch.optim.Adam,\n",
        "    iterator_train__shuffle=False,\n",
        "    iterator_train__sampler=train_sampler,\n",
        "    iterator_valid__sampler=valid_sampler,\n",
        "    train_split=predefined_split(valid_set),  # using valid_set for validation\n",
        "    optimizer__lr=lr,\n",
        "    batch_size=batch_size,\n",
        "    callbacks=callbacks,\n",
        "    device=device,\n",
        "    classes=np.unique(y_train)\n",
        ")\n",
        "# Model training for a specified number of epochs. `y` is None as it is already\n",
        "# supplied in the dataset.\n",
        "clf.fit(train_set, y=None, epochs=n_epochs)"
      ]
    },
    {
      "cell_type": "markdown",
      "metadata": {
        "id": "JGIjxR1QegQq"
      },
      "source": [
        "## Plot results\n",
        "\n",
        "We use the history stored by Skorch during training to plot the performance of\n",
        "the model throughout training. Specifically, we plot the loss and the balanced\n",
        "balanced accuracy for the training and validation sets.\n",
        "\n"
      ]
    },
    {
      "cell_type": "code",
      "execution_count": 12,
      "metadata": {
        "colab": {
          "base_uri": "https://localhost:8080/",
          "height": 707
        },
        "id": "v0L_UN-hegQr",
        "outputId": "c93ea726-68d8-495f-eb3d-e01340552b5e"
      },
      "outputs": [
        {
          "output_type": "display_data",
          "data": {
            "text/plain": [
              "<Figure size 800x700 with 2 Axes>"
            ],
            "image/png": "[encoded data removed]"
          },
          "metadata": {}
        }
      ],
      "source": [
        "import matplotlib.pyplot as plt\n",
        "import pandas as pd\n",
        "\n",
        "# Extract loss and balanced accuracy values for plotting from history object\n",
        "df = pd.DataFrame(clf.history.to_list())\n",
        "df.index.name = \"Epoch\"\n",
        "fig, (ax1, ax2) = plt.subplots(2, 1, figsize=(8, 7), sharex=True)\n",
        "df[['train_loss', 'valid_loss']].plot(color=['r', 'b'], ax=ax1)\n",
        "df[['train_bal_acc', 'valid_bal_acc']].plot(color=['r', 'b'], ax=ax2)\n",
        "ax1.set_ylabel('Loss')\n",
        "ax2.set_ylabel('Balanced accuracy')\n",
        "ax1.legend(['Train', 'Valid'])\n",
        "ax2.legend(['Train', 'Valid'])\n",
        "fig.tight_layout()\n",
        "plt.show()"
      ]
    },
    {
      "cell_type": "markdown",
      "metadata": {
        "id": "nBrvvZR0egQs"
      },
      "source": [
        "Finally, we also display the confusion matrix and classification report:\n",
        "\n",
        "\n"
      ]
    },
    {
      "cell_type": "code",
      "execution_count": 13,
      "metadata": {
        "colab": {
          "base_uri": "https://localhost:8080/",
          "height": 915
        },
        "id": "uVB63t8yegQs",
        "outputId": "f067dc9a-3b6d-4bd5-c243-7c1d16a6daa7"
      },
      "outputs": [
        {
          "output_type": "stream",
          "name": "stderr",
          "text": [
            "/usr/local/lib/python3.10/dist-packages/sklearn/metrics/_classification.py:1344: UndefinedMetricWarning: Precision and F-score are ill-defined and being set to 0.0 in labels with no predicted samples. Use `zero_division` parameter to control this behavior.\n",
            "  _warn_prf(average, modifier, msg_start, len(result))\n",
            "/usr/local/lib/python3.10/dist-packages/sklearn/metrics/_classification.py:1344: UndefinedMetricWarning: Recall and F-score are ill-defined and being set to 0.0 in labels with no true samples. Use `zero_division` parameter to control this behavior.\n",
            "  _warn_prf(average, modifier, msg_start, len(result))\n",
            "/usr/local/lib/python3.10/dist-packages/sklearn/metrics/_classification.py:1344: UndefinedMetricWarning: Precision and F-score are ill-defined and being set to 0.0 in labels with no predicted samples. Use `zero_division` parameter to control this behavior.\n",
            "  _warn_prf(average, modifier, msg_start, len(result))\n",
            "/usr/local/lib/python3.10/dist-packages/sklearn/metrics/_classification.py:1344: UndefinedMetricWarning: Recall and F-score are ill-defined and being set to 0.0 in labels with no true samples. Use `zero_division` parameter to control this behavior.\n",
            "  _warn_prf(average, modifier, msg_start, len(result))\n",
            "/usr/local/lib/python3.10/dist-packages/sklearn/metrics/_classification.py:1344: UndefinedMetricWarning: Precision and F-score are ill-defined and being set to 0.0 in labels with no predicted samples. Use `zero_division` parameter to control this behavior.\n",
            "  _warn_prf(average, modifier, msg_start, len(result))\n",
            "/usr/local/lib/python3.10/dist-packages/sklearn/metrics/_classification.py:1344: UndefinedMetricWarning: Recall and F-score are ill-defined and being set to 0.0 in labels with no true samples. Use `zero_division` parameter to control this behavior.\n",
            "  _warn_prf(average, modifier, msg_start, len(result))\n"
          ]
        },
        {
          "output_type": "stream",
          "name": "stdout",
          "text": [
            "              precision    recall  f1-score   support\n",
            "\n",
            "           0       1.00      0.02      0.03        60\n",
            "           1       0.00      0.00      0.00         6\n",
            "           2       0.00      0.00      0.00        48\n",
            "           3       0.15      1.00      0.26        19\n",
            "           4       0.00      0.00      0.00         0\n",
            "\n",
            "    accuracy                           0.15       133\n",
            "   macro avg       0.23      0.20      0.06       133\n",
            "weighted avg       0.47      0.15      0.05       133\n",
            "\n"
          ]
        },
        {
          "output_type": "display_data",
          "data": {
            "text/plain": [
              "<Figure size 640x480 with 1 Axes>"
            ],
            "image/png": "[encoded data removed]"
          },
          "metadata": {}
        }
      ],
      "source": [
        "from sklearn.metrics import confusion_matrix, classification_report\n",
        "from braindecode.visualization import plot_confusion_matrix\n",
        "\n",
        "y_true = [valid_set[[i]][1][0] for i in range(len(valid_sampler))]\n",
        "y_pred = clf.predict(valid_set)\n",
        "\n",
        "confusion_mat = confusion_matrix(y_true, y_pred)\n",
        "\n",
        "plot_confusion_matrix(confusion_mat=confusion_mat)\n",
        "#                      class_names=['Wake', 'N1', 'N2', 'N3', 'N4', 'REM'])\n",
        "\n",
        "print(classification_report(y_true, y_pred))"
      ]
    },
    {
      "cell_type": "markdown",
      "metadata": {
        "id": "MmSkae9vegQt"
      },
      "source": [
        "Finally, we can also visualize the hypnogram of the recording we used for\n",
        "validation, with the predicted sleep stages overlaid on top of the true\n",
        "sleep stages. We can see that the model cannot correctly identify the\n",
        "different sleep stages with this amount of training.\n",
        "\n"
      ]
    },
    {
      "cell_type": "code",
      "execution_count": 14,
      "metadata": {
        "colab": {
          "base_uri": "https://localhost:8080/",
          "height": 482
        },
        "id": "1kdRTM0xegQu",
        "outputId": "926211d8-fc49-469c-99f5-eac1a5d9d9ca"
      },
      "outputs": [
        {
          "output_type": "execute_result",
          "data": {
            "text/plain": [
              "Text(0, 0.5, 'Sleep stage')"
            ]
          },
          "metadata": {},
          "execution_count": 14
        },
        {
          "output_type": "display_data",
          "data": {
            "text/plain": [
              "<Figure size 1500x500 with 1 Axes>"
            ],
            "image/png": "[encoded data removed]"
          },
          "metadata": {}
        }
      ],
      "source": [
        "import matplotlib.pyplot as plt\n",
        "\n",
        "fig, ax = plt.subplots(figsize=(15, 5))\n",
        "ax.plot(y_true, color='b', label='Expert annotations')\n",
        "ax.plot(y_pred.flatten(), color='r', label='Predict annotations', alpha=0.5)\n",
        "ax.set_xlabel('Time (epochs)')\n",
        "ax.set_ylabel('Sleep stage')"
      ]
    },
    {
      "cell_type": "markdown",
      "metadata": {
        "id": "LczX6CKBegQv"
      },
      "source": [
        "The model was able to learn despite the low amount of data that was available\n",
        "(only two recordings in this example) and reached a balanced accuracy of\n",
        "about 43% in a 5-class classification task (chance-level = 20%) on held-out\n",
        "data over 10 epochs.\n",
        "\n",
        "<div class=\"alert alert-info\"><h4>Note</h4><p>To further improve performance, the number of epochs should be increased.\n",
        "   It has been reduced here for faster run-time in document generation. In\n",
        "   testing, 10 epochs provided reasonable performance with around 89% balanced\n",
        "   accuracy on training data and around 43% on held out validation data.\n",
        "   Increasing the number of training recordings and optimizing the hyperparameters\n",
        "   will also help increase performance</p></div>\n",
        "\n"
      ]
    }
  ],
  "metadata": {
    "kernelspec": {
      "display_name": "Python 3",
      "language": "python",
      "name": "python3"
    },
    "language_info": {
      "codemirror_mode": {
        "name": "ipython",
        "version": 3
      },
      "file_extension": ".py",
      "mimetype": "text/x-python",
      "name": "python",
      "nbconvert_exporter": "python",
      "pygments_lexer": "ipython3",
      "version": "3.10.12"
    },
    "colab": {
      "provenance": [],
      "include_colab_link": true
    }
  },
  "nbformat": 4,
  "nbformat_minor": 0
}