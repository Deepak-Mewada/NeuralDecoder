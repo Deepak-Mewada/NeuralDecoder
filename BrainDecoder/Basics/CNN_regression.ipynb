{
  "nbformat": 4,
  "nbformat_minor": 0,
  "metadata": {
    "colab": {
      "provenance": [],
      "authorship_tag": "ABX9TyNxij79NWkyddOsX0zVyL2U",
      "include_colab_link": true
    },
    "kernelspec": {
      "name": "python3",
      "display_name": "Python 3"
    },
    "language_info": {
      "name": "python"
    }
  },
  "cells": [
    {
      "cell_type": "markdown",
      "metadata": {
        "id": "view-in-github",
        "colab_type": "text"
      },
      "source": [
        "<a href=\"https://colab.research.google.com/github/Deepak-Mewada/NeuralDecoder/blob/main/BrainDecoder/Basics/CNN_regression.ipynb\" target=\"_parent\"><img src=\"https://colab.research.google.com/assets/colab-badge.svg\" alt=\"Open In Colab\"/></a>"
      ]
    },
    {
      "cell_type": "code",
      "execution_count": null,
      "metadata": {
        "colab": {
          "base_uri": "https://localhost:8080/"
        },
        "id": "DRKbk8J4bRjT",
        "outputId": "00ab12c4-2a9f-4ea2-a406-c32145851389"
      },
      "outputs": [
        {
          "output_type": "stream",
          "name": "stdout",
          "text": [
            "Requirement already satisfied: braindecode in /usr/local/lib/python3.10/dist-packages (0.8.1)\n",
            "Requirement already satisfied: mne in /usr/local/lib/python3.10/dist-packages (from braindecode) (1.6.0)\n",
            "Requirement already satisfied: numpy in /usr/local/lib/python3.10/dist-packages (from braindecode) (1.23.5)\n",
            "Requirement already satisfied: pandas in /usr/local/lib/python3.10/dist-packages (from braindecode) (1.5.3)\n",
            "Requirement already satisfied: scipy in /usr/local/lib/python3.10/dist-packages (from braindecode) (1.11.4)\n",
            "Requirement already satisfied: matplotlib in /usr/local/lib/python3.10/dist-packages (from braindecode) (3.7.1)\n",
            "Requirement already satisfied: h5py in /usr/local/lib/python3.10/dist-packages (from braindecode) (3.9.0)\n",
            "Requirement already satisfied: skorch in /usr/local/lib/python3.10/dist-packages (from braindecode) (0.15.0)\n",
            "Requirement already satisfied: torch in /usr/local/lib/python3.10/dist-packages (from braindecode) (2.1.0+cu121)\n",
            "Requirement already satisfied: einops in /usr/local/lib/python3.10/dist-packages (from braindecode) (0.7.0)\n",
            "Requirement already satisfied: joblib in /usr/local/lib/python3.10/dist-packages (from braindecode) (1.3.2)\n",
            "Requirement already satisfied: torchinfo in /usr/local/lib/python3.10/dist-packages (from braindecode) (1.8.0)\n",
            "Requirement already satisfied: docstring-inheritance in /usr/local/lib/python3.10/dist-packages (from braindecode) (2.1.2)\n",
            "Requirement already satisfied: contourpy>=1.0.1 in /usr/local/lib/python3.10/dist-packages (from matplotlib->braindecode) (1.2.0)\n",
            "Requirement already satisfied: cycler>=0.10 in /usr/local/lib/python3.10/dist-packages (from matplotlib->braindecode) (0.12.1)\n",
            "Requirement already satisfied: fonttools>=4.22.0 in /usr/local/lib/python3.10/dist-packages (from matplotlib->braindecode) (4.47.0)\n",
            "Requirement already satisfied: kiwisolver>=1.0.1 in /usr/local/lib/python3.10/dist-packages (from matplotlib->braindecode) (1.4.5)\n",
            "Requirement already satisfied: packaging>=20.0 in /usr/local/lib/python3.10/dist-packages (from matplotlib->braindecode) (23.2)\n",
            "Requirement already satisfied: pillow>=6.2.0 in /usr/local/lib/python3.10/dist-packages (from matplotlib->braindecode) (9.4.0)\n",
            "Requirement already satisfied: pyparsing>=2.3.1 in /usr/local/lib/python3.10/dist-packages (from matplotlib->braindecode) (3.1.1)\n",
            "Requirement already satisfied: python-dateutil>=2.7 in /usr/local/lib/python3.10/dist-packages (from matplotlib->braindecode) (2.8.2)\n",
            "Requirement already satisfied: tqdm in /usr/local/lib/python3.10/dist-packages (from mne->braindecode) (4.66.1)\n",
            "Requirement already satisfied: pooch>=1.5 in /usr/local/lib/python3.10/dist-packages (from mne->braindecode) (1.8.0)\n",
            "Requirement already satisfied: decorator in /usr/local/lib/python3.10/dist-packages (from mne->braindecode) (4.4.2)\n",
            "Requirement already satisfied: jinja2 in /usr/local/lib/python3.10/dist-packages (from mne->braindecode) (3.1.2)\n",
            "Requirement already satisfied: lazy-loader>=0.3 in /usr/local/lib/python3.10/dist-packages (from mne->braindecode) (0.3)\n",
            "Requirement already satisfied: defusedxml in /usr/local/lib/python3.10/dist-packages (from mne->braindecode) (0.7.1)\n",
            "Requirement already satisfied: pytz>=2020.1 in /usr/local/lib/python3.10/dist-packages (from pandas->braindecode) (2023.3.post1)\n",
            "Requirement already satisfied: scikit-learn>=0.22.0 in /usr/local/lib/python3.10/dist-packages (from skorch->braindecode) (1.2.2)\n",
            "Requirement already satisfied: tabulate>=0.7.7 in /usr/local/lib/python3.10/dist-packages (from skorch->braindecode) (0.9.0)\n",
            "Requirement already satisfied: filelock in /usr/local/lib/python3.10/dist-packages (from torch->braindecode) (3.13.1)\n",
            "Requirement already satisfied: typing-extensions in /usr/local/lib/python3.10/dist-packages (from torch->braindecode) (4.5.0)\n",
            "Requirement already satisfied: sympy in /usr/local/lib/python3.10/dist-packages (from torch->braindecode) (1.12)\n",
            "Requirement already satisfied: networkx in /usr/local/lib/python3.10/dist-packages (from torch->braindecode) (3.2.1)\n",
            "Requirement already satisfied: fsspec in /usr/local/lib/python3.10/dist-packages (from torch->braindecode) (2023.6.0)\n",
            "Requirement already satisfied: triton==2.1.0 in /usr/local/lib/python3.10/dist-packages (from torch->braindecode) (2.1.0)\n",
            "Requirement already satisfied: platformdirs>=2.5.0 in /usr/local/lib/python3.10/dist-packages (from pooch>=1.5->mne->braindecode) (4.1.0)\n",
            "Requirement already satisfied: requests>=2.19.0 in /usr/local/lib/python3.10/dist-packages (from pooch>=1.5->mne->braindecode) (2.31.0)\n",
            "Requirement already satisfied: six>=1.5 in /usr/local/lib/python3.10/dist-packages (from python-dateutil>=2.7->matplotlib->braindecode) (1.16.0)\n",
            "Requirement already satisfied: threadpoolctl>=2.0.0 in /usr/local/lib/python3.10/dist-packages (from scikit-learn>=0.22.0->skorch->braindecode) (3.2.0)\n",
            "Requirement already satisfied: MarkupSafe>=2.0 in /usr/local/lib/python3.10/dist-packages (from jinja2->mne->braindecode) (2.1.3)\n",
            "Requirement already satisfied: mpmath>=0.19 in /usr/local/lib/python3.10/dist-packages (from sympy->torch->braindecode) (1.3.0)\n",
            "Requirement already satisfied: charset-normalizer<4,>=2 in /usr/local/lib/python3.10/dist-packages (from requests>=2.19.0->pooch>=1.5->mne->braindecode) (3.3.2)\n",
            "Requirement already satisfied: idna<4,>=2.5 in /usr/local/lib/python3.10/dist-packages (from requests>=2.19.0->pooch>=1.5->mne->braindecode) (3.6)\n",
            "Requirement already satisfied: urllib3<3,>=1.21.1 in /usr/local/lib/python3.10/dist-packages (from requests>=2.19.0->pooch>=1.5->mne->braindecode) (2.0.7)\n",
            "Requirement already satisfied: certifi>=2017.4.17 in /usr/local/lib/python3.10/dist-packages (from requests>=2.19.0->pooch>=1.5->mne->braindecode) (2023.11.17)\n"
          ]
        }
      ],
      "source": [
        "!pip install braindecode"
      ]
    },
    {
      "cell_type": "code",
      "source": [
        "import numpy as np\n",
        "import pandas as pd\n",
        "\n",
        "\n",
        "from braindecode.datasets import BaseConcatDataset, BaseDataset\n",
        "from braindecode.util import create_mne_dummy_raw"
      ],
      "metadata": {
        "id": "kTDb2NcrbrgC"
      },
      "execution_count": null,
      "outputs": []
    },
    {
      "cell_type": "code",
      "source": [
        "def fake_regression_dataset(n_fake_recs, n_fake_chs, fake_sfreq,\n",
        "                            fake_duration, n_fake_targets,\n",
        "                            fake_data_split = [0.6, 0.2, 0.2]):\n",
        "  datasets = []\n",
        "  for i in range(n_fake_recs):\n",
        "    if i < int(fake_data_split[0] * n_fake_recs):\n",
        "      target_subset = \"train\"\n",
        "    elif i < int(1 - fake_data_split[2] * n_fake_recs):\n",
        "      target_subset = \"valid\"\n",
        "    else:\n",
        "      target_subset = \"test\"\n",
        "\n",
        "    raw, _ = create_mne_dummy_raw(n_channels = n_fake_chs,\n",
        "                                  n_times = fake_duration * fake_sfreq,\n",
        "                                  sfreq = fake_sfreq)\n",
        "\n",
        "\n",
        "    target = np.random.randint(0, 10, n_fake_targets)\n",
        "    for j in range(n_fake_targets):\n",
        "      x = np.sin(2* np.pi * target[j] * raw.times)\n",
        "      raw._data += np.expand_dims(x, axis = 0)\n",
        "\n",
        "    if n_fake_targets ==  1:\n",
        "        target = target[0]\n",
        "    fake_description = pd.Series(data = [target, target_subset],\n",
        "                                 index = [\"target\", \"session\"])\n",
        "\n",
        "    datasets.append(\n",
        "        BaseDataset(raw, fake_description,target_name = \"target\"))\n",
        "\n",
        "\n",
        "  return BaseConcatDataset(datasets)"
      ],
      "metadata": {
        "id": "xmgrBzs-br9Y"
      },
      "execution_count": null,
      "outputs": []
    },
    {
      "cell_type": "code",
      "source": [
        "n_fake_rec = 20\n",
        "n_fake_chans = 21\n",
        "fake_sfreq = 100\n",
        "fake_duration = 30\n",
        "n_fake_targets = 1\n",
        "dataset = fake_regression_dataset(n_fake_recs = n_fake_rec,\n",
        "                                  n_fake_chs = n_fake_chans,\n",
        "                                  fake_sfreq = fake_sfreq,\n",
        "                                  fake_duration = fake_duration,\n",
        "                                  n_fake_targets = n_fake_targets)"
      ],
      "metadata": {
        "colab": {
          "base_uri": "https://localhost:8080/"
        },
        "id": "tsuS3TLGbsUF",
        "outputId": "ec01044a-675f-468e-c182-64079bb2cd8d"
      },
      "execution_count": null,
      "outputs": [
        {
          "output_type": "stream",
          "name": "stdout",
          "text": [
            "Creating RawArray with float64 data, n_channels=21, n_times=3000\n",
            "    Range : 0 ... 2999 =      0.000 ...    29.990 secs\n",
            "Ready.\n",
            "Creating RawArray with float64 data, n_channels=21, n_times=3000\n",
            "    Range : 0 ... 2999 =      0.000 ...    29.990 secs\n",
            "Ready.\n",
            "Creating RawArray with float64 data, n_channels=21, n_times=3000\n",
            "    Range : 0 ... 2999 =      0.000 ...    29.990 secs\n",
            "Ready.\n",
            "Creating RawArray with float64 data, n_channels=21, n_times=3000\n",
            "    Range : 0 ... 2999 =      0.000 ...    29.990 secs\n",
            "Ready.\n",
            "Creating RawArray with float64 data, n_channels=21, n_times=3000\n",
            "    Range : 0 ... 2999 =      0.000 ...    29.990 secs\n",
            "Ready.\n",
            "Creating RawArray with float64 data, n_channels=21, n_times=3000\n",
            "    Range : 0 ... 2999 =      0.000 ...    29.990 secs\n",
            "Ready.\n",
            "Creating RawArray with float64 data, n_channels=21, n_times=3000\n",
            "    Range : 0 ... 2999 =      0.000 ...    29.990 secs\n",
            "Ready.\n",
            "Creating RawArray with float64 data, n_channels=21, n_times=3000\n",
            "    Range : 0 ... 2999 =      0.000 ...    29.990 secs\n",
            "Ready.\n",
            "Creating RawArray with float64 data, n_channels=21, n_times=3000\n",
            "    Range : 0 ... 2999 =      0.000 ...    29.990 secs\n",
            "Ready.\n",
            "Creating RawArray with float64 data, n_channels=21, n_times=3000\n",
            "    Range : 0 ... 2999 =      0.000 ...    29.990 secs\n",
            "Ready.\n",
            "Creating RawArray with float64 data, n_channels=21, n_times=3000\n",
            "    Range : 0 ... 2999 =      0.000 ...    29.990 secs\n",
            "Ready.\n",
            "Creating RawArray with float64 data, n_channels=21, n_times=3000\n",
            "    Range : 0 ... 2999 =      0.000 ...    29.990 secs\n",
            "Ready.\n",
            "Creating RawArray with float64 data, n_channels=21, n_times=3000\n",
            "    Range : 0 ... 2999 =      0.000 ...    29.990 secs\n",
            "Ready.\n",
            "Creating RawArray with float64 data, n_channels=21, n_times=3000\n",
            "    Range : 0 ... 2999 =      0.000 ...    29.990 secs\n",
            "Ready.\n",
            "Creating RawArray with float64 data, n_channels=21, n_times=3000\n",
            "    Range : 0 ... 2999 =      0.000 ...    29.990 secs\n",
            "Ready.\n",
            "Creating RawArray with float64 data, n_channels=21, n_times=3000\n",
            "    Range : 0 ... 2999 =      0.000 ...    29.990 secs\n",
            "Ready.\n",
            "Creating RawArray with float64 data, n_channels=21, n_times=3000\n",
            "    Range : 0 ... 2999 =      0.000 ...    29.990 secs\n",
            "Ready.\n",
            "Creating RawArray with float64 data, n_channels=21, n_times=3000\n",
            "    Range : 0 ... 2999 =      0.000 ...    29.990 secs\n",
            "Ready.\n",
            "Creating RawArray with float64 data, n_channels=21, n_times=3000\n",
            "    Range : 0 ... 2999 =      0.000 ...    29.990 secs\n",
            "Ready.\n",
            "Creating RawArray with float64 data, n_channels=21, n_times=3000\n",
            "    Range : 0 ... 2999 =      0.000 ...    29.990 secs\n",
            "Ready.\n"
          ]
        }
      ]
    },
    {
      "cell_type": "code",
      "source": [
        "from braindecode.util import set_random_seeds\n",
        "from braindecode.models import Deep4Net\n",
        "from braindecode.models import ShallowFBCSPNet\n",
        "import torch\n",
        "\n",
        "model_name = \"shallow\"\n",
        "\n",
        "\n",
        "if model_name in [\"shallow\", \"Shallow\", \"ShallowConvNet\"]:\n",
        "  model = ShallowFBCSPNet(in_chans = n_fake_chans,\n",
        "                          n_classes = n_fake_targets,\n",
        "                          input_window_samples = fake_sfreq * fake_duration,\n",
        "                          n_filters_time = 40, n_filters_spat = 40,\n",
        "                          final_conv_length=35,\n",
        "                          add_log_softmax = False)\n",
        "\n",
        "elif model_name in [\"deep\", \"Deep\", \"DeepConvNet\"]:\n",
        "  model = Deep4Net(in_chans = n_fake_chans, n_classes = n_fake_targets,\n",
        "                     input_window_samples = fake_sfreq * fake_duration,\n",
        "                     n_filters_time = 25, n_filtersspat = 25,\n",
        "                     stride_before_pool = True,\n",
        "                     n_filters_2 = n_fake_chans * 2,\n",
        "                     n_filters_3 = n_fake_chans * 4,\n",
        "                     n_filters_4 = n_fake_chans * 8,\n",
        "                     final_conv_length = 1,\n",
        "                     add_log_softmax = False)\n",
        "else:\n",
        "  raise ValueError(f'{model_name} unknown')\n",
        "\n"
      ],
      "metadata": {
        "colab": {
          "base_uri": "https://localhost:8080/"
        },
        "id": "1EEGS3YObspN",
        "outputId": "e3fc95ba-5a43-4094-de20-6aafb5237d38"
      },
      "execution_count": null,
      "outputs": [
        {
          "output_type": "stream",
          "name": "stderr",
          "text": [
            "/usr/local/lib/python3.10/dist-packages/braindecode/models/base.py:23: UserWarning: ShallowFBCSPNet: 'in_chans' is depreciated. Use 'n_chans' instead.\n",
            "  warnings.warn(\n",
            "/usr/local/lib/python3.10/dist-packages/braindecode/models/base.py:23: UserWarning: ShallowFBCSPNet: 'n_classes' is depreciated. Use 'n_outputs' instead.\n",
            "  warnings.warn(\n",
            "/usr/local/lib/python3.10/dist-packages/braindecode/models/base.py:23: UserWarning: ShallowFBCSPNet: 'input_window_samples' is depreciated. Use 'n_times' instead.\n",
            "  warnings.warn(\n"
          ]
        }
      ]
    },
    {
      "cell_type": "code",
      "source": [
        "cuda = torch.cuda.is_available()\n",
        "device = 'cuda' if cuda else 'cpu'\n",
        "if cuda:\n",
        "  torch.backends.cudnn.benchmark = True\n",
        "\n",
        "\n",
        "seed = 20200220\n",
        "set_random_seeds(seed = seed, cuda = cuda)\n",
        "if cuda:\n",
        "  model.cuda()"
      ],
      "metadata": {
        "id": "G_tE7hCmn24P"
      },
      "execution_count": null,
      "outputs": []
    },
    {
      "cell_type": "code",
      "source": [],
      "metadata": {
        "id": "Vvqe8a9Qz9L9"
      },
      "execution_count": null,
      "outputs": []
    },
    {
      "cell_type": "code",
      "source": [
        "from braindecode.models.util import to_dense_prediction_model, get_output_shape\n",
        "from braindecode.preprocessing import create_fixed_length_windows\n",
        "\n",
        "window_size_samples = fake_sfreq * fake_duration\n",
        "# to_dense_prediction_model(model)\n",
        "n_preds_per_input = get_output_shape(model, n_fake_chans, window_size_samples)[2]\n",
        "\n",
        "\n",
        "windows_dataset = create_fixed_length_windows(\n",
        "    dataset,\n",
        "    start_offset_samples = 0,\n",
        "    stop_offset_samples=0,\n",
        "    window_size_samples=window_size_samples,\n",
        "    window_stride_samples=n_preds_per_input,\n",
        "    drop_last_window = False,\n",
        "    preload = True\n",
        ")\n",
        "\n",
        "splits = windows_dataset.split(\"session\")\n",
        "train_set = splits[\"train\"]\n",
        "# valid_set = splits[\"valid\"]\n",
        "test_set = splits[\"test\"]"
      ],
      "metadata": {
        "colab": {
          "base_uri": "https://localhost:8080/"
        },
        "id": "kpsb-zlBn3TO",
        "outputId": "5c8f5b02-d8d5-4629-a3e8-1d215b319234"
      },
      "execution_count": null,
      "outputs": [
        {
          "output_type": "stream",
          "name": "stderr",
          "text": [
            "/usr/local/lib/python3.10/dist-packages/sklearn/utils/deprecation.py:86: FutureWarning: Function get_output_shape is deprecated; will be removed in version 1.0. Use EEGModuleMixin.get_output_shape method directly on the model object.\n",
            "  warnings.warn(msg, category=FutureWarning)\n",
            "/usr/local/lib/python3.10/dist-packages/braindecode/preprocessing/windowers.py:610: UserWarning: Meaning of `trial_stop_offset_samples`=0 has changed, use `None` to indicate end of trial/recording. Using `None`.\n",
            "  warnings.warn(\n"
          ]
        }
      ]
    },
    {
      "cell_type": "code",
      "source": [
        "splits[\"test\"]"
      ],
      "metadata": {
        "colab": {
          "base_uri": "https://localhost:8080/"
        },
        "id": "6xZeOFA4LNKE",
        "outputId": "a8ca7b81-933e-4c36-ef2c-ebb30876cc10"
      },
      "execution_count": null,
      "outputs": [
        {
          "output_type": "execute_result",
          "data": {
            "text/plain": [
              "<braindecode.datasets.base.BaseConcatDataset at 0x7e4a42d7f100>"
            ]
          },
          "metadata": {},
          "execution_count": 26
        }
      ]
    },
    {
      "cell_type": "code",
      "source": [
        "from braindecode import EEGRegressor\n",
        "from braindecode.training.losses import CroppedLoss\n",
        "from skorch.callbacks import LRScheduler\n",
        "from skorch.helper import predefined_split\n",
        "from skorch.dataset import ValidSplit\n",
        "batch_size = 4\n",
        "n_epochs = 3\n",
        "optimizer_lr = 0.001\n",
        "optimizer_weight_decay = 0.0\n",
        "regressor =EEGRegressor(model, cropped = True,\n",
        "                        criterion = CroppedLoss,\n",
        "                        criterion__loss_function = torch.nn.functional.mse_loss,\n",
        "                        optimizer = torch.optim.AdamW,\n",
        "                        optimizer__lr = optimizer_lr,\n",
        "                        optimizer__weight_decay = optimizer_weight_decay,\n",
        "                        train_split = ValidSplit(0.2, random_state = seed),\n",
        "                        iterator_train__shuffle = True,\n",
        "                        batch_size = batch_size,\n",
        "                        callbacks = [\"neg_root_mean_squared_error\",\n",
        "                                     (\"lr_scheduler\",\n",
        "                                      LRScheduler('CosineAnnealingLR',\n",
        "                                                  T_max = n_epochs - 1))],\n",
        "                        device = device)\n",
        "regressor.fit(train_set, y = None, epochs = n_epochs)"
      ],
      "metadata": {
        "colab": {
          "base_uri": "https://localhost:8080/"
        },
        "id": "qP3BPBg3n3pq",
        "outputId": "77a1606a-0ce6-4139-8f0c-8cd78f0b5bf4"
      },
      "execution_count": null,
      "outputs": [
        {
          "output_type": "stream",
          "name": "stdout",
          "text": [
            "  epoch    train_loss    train_neg_root_mean_squared_error    valid_loss    valid_neg_root_mean_squared_error      lr     dur\n",
            "-------  ------------  -----------------------------------  ------------  -----------------------------------  ------  ------\n",
            "      1       \u001b[36m27.2720\u001b[0m                              \u001b[32m-6.0068\u001b[0m       \u001b[35m33.5114\u001b[0m                              \u001b[31m-5.7889\u001b[0m  0.0010  0.3977\n",
            "      2       \u001b[36m12.7621\u001b[0m                              \u001b[32m-5.3862\u001b[0m       \u001b[35m22.4160\u001b[0m                              \u001b[31m-4.7346\u001b[0m  0.0005  0.5442\n",
            "      3        \u001b[36m8.9105\u001b[0m                              \u001b[32m-4.9875\u001b[0m       \u001b[35m19.6837\u001b[0m                              \u001b[31m-4.4366\u001b[0m  0.0000  0.5602\n"
          ]
        }
      ]
    },
    {
      "cell_type": "code",
      "source": [
        "import matplotlib.pyplot as plt\n",
        "\n",
        "\n",
        "fig, axes = plt.subplots(1, 2, figsize = (10, 5))\n",
        "axes[0].set_title(\"Train and valid losses\")\n",
        "axes[0].plot(regressor.history[:, \"train_loss\"])\n",
        "axes[0].plot(regressor.history[:, \"valid_loss\"])\n",
        "axes[0].set_xlabel(\"Epochs\")\n",
        "axes[0].set_ylabel(\"Cropped MSE loss\")\n",
        "axes[0].legend([\"Train\", \"Valid\"])\n",
        "\n",
        "\n",
        "axes[1].set_title(\"Train and valid errors\")\n",
        "axes[1].plot(regressor.history[:, \"train_neg_root_mean_squared_error\"])\n",
        "axes[1].plot(regressor.history[:, \"valid_neg_root_mean_squared_error\"])\n",
        "axes[1].set_xlabel(\"Epochs\")\n",
        "axes[1].set_ylabel(\"Negative RMSE\")\n",
        "axes[1].legend([\"Train\", \"Valid\"])\n",
        "\n"
      ],
      "metadata": {
        "colab": {
          "base_uri": "https://localhost:8080/",
          "height": 386
        },
        "id": "Hip_0mUYRL-r",
        "outputId": "cefbd3fb-e3a6-4be6-ad94-490ca23651bb"
      },
      "execution_count": null,
      "outputs": [
        {
          "output_type": "execute_result",
          "data": {
            "text/plain": [
              "<matplotlib.legend.Legend at 0x7e4a404f3e80>"
            ]
          },
          "metadata": {},
          "execution_count": 28
        },
        {
          "output_type": "display_data",
          "data": {
            "text/plain": [
              "<Figure size 1000x500 with 2 Axes>"
            ],
            "image/png": "[encoded data removed]"
          },
          "metadata": {}
        }
      ]
    },
    {
      "cell_type": "code",
      "source": [
        "fig, axes = plt.subplots(1, 1, figsize = (5, 5))\n",
        "y_estim = np.ravel(regressor.predict(test_set))\n",
        "y_gt = test_set.get_metadata()[\"target\"].to_numpy()\n",
        "\n",
        "_ = axes.scatter(y_gt, y_estim)\n",
        "_ = axes.set_ylabel(\"Estimated targets.\")\n",
        "_ = axes.set_xlabel(\"Ground truth targets.\")\n",
        "\n",
        "\n",
        "z = np.polyfit(y_gt, y_estim, 1)\n",
        "p = np.poly1d(z)\n",
        "plt.plot(y_gt, p(y_gt), \"r--\")\n",
        "plt.show()"
      ],
      "metadata": {
        "colab": {
          "base_uri": "https://localhost:8080/",
          "height": 465
        },
        "id": "LWEH6Wbqn398",
        "outputId": "2ea58c0d-19c6-4a0e-8daf-7bf80cdd1d73"
      },
      "execution_count": null,
      "outputs": [
        {
          "output_type": "display_data",
          "data": {
            "text/plain": [
              "<Figure size 500x500 with 1 Axes>"
            ],
            "image/png": "[encoded data removed]"
          },
          "metadata": {}
        }
      ]
    },
    {
      "cell_type": "code",
      "source": [],
      "metadata": {
        "id": "m8b_PJ8vTVSE"
      },
      "execution_count": null,
      "outputs": []
    },
    {
      "cell_type": "code",
      "source": [],
      "metadata": {
        "id": "jq61LZxVTVh1"
      },
      "execution_count": null,
      "outputs": []
    }
  ]
}