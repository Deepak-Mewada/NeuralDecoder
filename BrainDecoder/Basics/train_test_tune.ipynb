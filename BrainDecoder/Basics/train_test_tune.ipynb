{
  "nbformat": 4,
  "nbformat_minor": 0,
  "metadata": {
    "colab": {
      "provenance": [],
      "authorship_tag": "ABX9TyNYaNNmQotFqCt/6NDG3lG/",
      "include_colab_link": true
    },
    "kernelspec": {
      "name": "python3",
      "display_name": "Python 3"
    },
    "language_info": {
      "name": "python"
    }
  },
  "cells": [
    {
      "cell_type": "markdown",
      "metadata": {
        "id": "view-in-github",
        "colab_type": "text"
      },
      "source": [
        "<a href=\"https://colab.research.google.com/github/Deepak-Mewada/NeuralDecoder/blob/main/BrainDecoder/Basics/train_test_tune.ipynb\" target=\"_parent\"><img src=\"https://colab.research.google.com/assets/colab-badge.svg\" alt=\"Open In Colab\"/></a>"
      ]
    },
    {
      "cell_type": "code",
      "execution_count": null,
      "metadata": {
        "colab": {
          "base_uri": "https://localhost:8080/"
        },
        "id": "BD_eaAYszTgR",
        "outputId": "5fb47b55-ad17-4b35-a59b-f9de90423de2"
      },
      "outputs": [
        {
          "output_type": "stream",
          "name": "stdout",
          "text": [
            "Collecting braindecode\n",
            "  Downloading braindecode-0.8.1-py3-none-any.whl (165 kB)\n",
            "\u001b[2K     \u001b[90m━━━━━━━━━━━━━━━━━━━━━━━━━━━━━━━━━━━━━━━━\u001b[0m \u001b[32m165.2/165.2 kB\u001b[0m \u001b[31m3.2 MB/s\u001b[0m eta \u001b[36m0:00:00\u001b[0m\n",
            "\u001b[?25hCollecting mne (from braindecode)\n",
            "  Downloading mne-1.6.0-py3-none-any.whl (8.3 MB)\n",
            "\u001b[2K     \u001b[90m━━━━━━━━━━━━━━━━━━━━━━━━━━━━━━━━━━━━━━━━\u001b[0m \u001b[32m8.3/8.3 MB\u001b[0m \u001b[31m13.9 MB/s\u001b[0m eta \u001b[36m0:00:00\u001b[0m\n",
            "\u001b[?25hRequirement already satisfied: numpy in /usr/local/lib/python3.10/dist-packages (from braindecode) (1.23.5)\n",
            "Requirement already satisfied: pandas in /usr/local/lib/python3.10/dist-packages (from braindecode) (1.5.3)\n",
            "Requirement already satisfied: scipy in /usr/local/lib/python3.10/dist-packages (from braindecode) (1.11.4)\n",
            "Requirement already satisfied: matplotlib in /usr/local/lib/python3.10/dist-packages (from braindecode) (3.7.1)\n",
            "Requirement already satisfied: h5py in /usr/local/lib/python3.10/dist-packages (from braindecode) (3.9.0)\n",
            "Collecting skorch (from braindecode)\n",
            "  Downloading skorch-0.15.0-py3-none-any.whl (239 kB)\n",
            "\u001b[2K     \u001b[90m━━━━━━━━━━━━━━━━━━━━━━━━━━━━━━━━━━━━━━━━\u001b[0m \u001b[32m239.3/239.3 kB\u001b[0m \u001b[31m13.7 MB/s\u001b[0m eta \u001b[36m0:00:00\u001b[0m\n",
            "\u001b[?25hRequirement already satisfied: torch in /usr/local/lib/python3.10/dist-packages (from braindecode) (2.1.0+cu121)\n",
            "Collecting einops (from braindecode)\n",
            "  Downloading einops-0.7.0-py3-none-any.whl (44 kB)\n",
            "\u001b[2K     \u001b[90m━━━━━━━━━━━━━━━━━━━━━━━━━━━━━━━━━━━━━━━━\u001b[0m \u001b[32m44.6/44.6 kB\u001b[0m \u001b[31m4.1 MB/s\u001b[0m eta \u001b[36m0:00:00\u001b[0m\n",
            "\u001b[?25hRequirement already satisfied: joblib in /usr/local/lib/python3.10/dist-packages (from braindecode) (1.3.2)\n",
            "Collecting torchinfo (from braindecode)\n",
            "  Downloading torchinfo-1.8.0-py3-none-any.whl (23 kB)\n",
            "Collecting docstring-inheritance (from braindecode)\n",
            "  Downloading docstring_inheritance-2.1.2-py3-none-any.whl (21 kB)\n",
            "Requirement already satisfied: contourpy>=1.0.1 in /usr/local/lib/python3.10/dist-packages (from matplotlib->braindecode) (1.2.0)\n",
            "Requirement already satisfied: cycler>=0.10 in /usr/local/lib/python3.10/dist-packages (from matplotlib->braindecode) (0.12.1)\n",
            "Requirement already satisfied: fonttools>=4.22.0 in /usr/local/lib/python3.10/dist-packages (from matplotlib->braindecode) (4.47.0)\n",
            "Requirement already satisfied: kiwisolver>=1.0.1 in /usr/local/lib/python3.10/dist-packages (from matplotlib->braindecode) (1.4.5)\n",
            "Requirement already satisfied: packaging>=20.0 in /usr/local/lib/python3.10/dist-packages (from matplotlib->braindecode) (23.2)\n",
            "Requirement already satisfied: pillow>=6.2.0 in /usr/local/lib/python3.10/dist-packages (from matplotlib->braindecode) (9.4.0)\n",
            "Requirement already satisfied: pyparsing>=2.3.1 in /usr/local/lib/python3.10/dist-packages (from matplotlib->braindecode) (3.1.1)\n",
            "Requirement already satisfied: python-dateutil>=2.7 in /usr/local/lib/python3.10/dist-packages (from matplotlib->braindecode) (2.8.2)\n",
            "Requirement already satisfied: tqdm in /usr/local/lib/python3.10/dist-packages (from mne->braindecode) (4.66.1)\n",
            "Requirement already satisfied: pooch>=1.5 in /usr/local/lib/python3.10/dist-packages (from mne->braindecode) (1.8.0)\n",
            "Requirement already satisfied: decorator in /usr/local/lib/python3.10/dist-packages (from mne->braindecode) (4.4.2)\n",
            "Requirement already satisfied: jinja2 in /usr/local/lib/python3.10/dist-packages (from mne->braindecode) (3.1.2)\n",
            "Requirement already satisfied: lazy-loader>=0.3 in /usr/local/lib/python3.10/dist-packages (from mne->braindecode) (0.3)\n",
            "Requirement already satisfied: defusedxml in /usr/local/lib/python3.10/dist-packages (from mne->braindecode) (0.7.1)\n",
            "Requirement already satisfied: pytz>=2020.1 in /usr/local/lib/python3.10/dist-packages (from pandas->braindecode) (2023.3.post1)\n",
            "Requirement already satisfied: scikit-learn>=0.22.0 in /usr/local/lib/python3.10/dist-packages (from skorch->braindecode) (1.2.2)\n",
            "Requirement already satisfied: tabulate>=0.7.7 in /usr/local/lib/python3.10/dist-packages (from skorch->braindecode) (0.9.0)\n",
            "Requirement already satisfied: filelock in /usr/local/lib/python3.10/dist-packages (from torch->braindecode) (3.13.1)\n",
            "Requirement already satisfied: typing-extensions in /usr/local/lib/python3.10/dist-packages (from torch->braindecode) (4.5.0)\n",
            "Requirement already satisfied: sympy in /usr/local/lib/python3.10/dist-packages (from torch->braindecode) (1.12)\n",
            "Requirement already satisfied: networkx in /usr/local/lib/python3.10/dist-packages (from torch->braindecode) (3.2.1)\n",
            "Requirement already satisfied: fsspec in /usr/local/lib/python3.10/dist-packages (from torch->braindecode) (2023.6.0)\n",
            "Requirement already satisfied: triton==2.1.0 in /usr/local/lib/python3.10/dist-packages (from torch->braindecode) (2.1.0)\n",
            "Requirement already satisfied: platformdirs>=2.5.0 in /usr/local/lib/python3.10/dist-packages (from pooch>=1.5->mne->braindecode) (4.1.0)\n",
            "Requirement already satisfied: requests>=2.19.0 in /usr/local/lib/python3.10/dist-packages (from pooch>=1.5->mne->braindecode) (2.31.0)\n",
            "Requirement already satisfied: six>=1.5 in /usr/local/lib/python3.10/dist-packages (from python-dateutil>=2.7->matplotlib->braindecode) (1.16.0)\n",
            "Requirement already satisfied: threadpoolctl>=2.0.0 in /usr/local/lib/python3.10/dist-packages (from scikit-learn>=0.22.0->skorch->braindecode) (3.2.0)\n",
            "Requirement already satisfied: MarkupSafe>=2.0 in /usr/local/lib/python3.10/dist-packages (from jinja2->mne->braindecode) (2.1.3)\n",
            "Requirement already satisfied: mpmath>=0.19 in /usr/local/lib/python3.10/dist-packages (from sympy->torch->braindecode) (1.3.0)\n",
            "Requirement already satisfied: charset-normalizer<4,>=2 in /usr/local/lib/python3.10/dist-packages (from requests>=2.19.0->pooch>=1.5->mne->braindecode) (3.3.2)\n",
            "Requirement already satisfied: idna<4,>=2.5 in /usr/local/lib/python3.10/dist-packages (from requests>=2.19.0->pooch>=1.5->mne->braindecode) (3.6)\n",
            "Requirement already satisfied: urllib3<3,>=1.21.1 in /usr/local/lib/python3.10/dist-packages (from requests>=2.19.0->pooch>=1.5->mne->braindecode) (2.0.7)\n",
            "Requirement already satisfied: certifi>=2017.4.17 in /usr/local/lib/python3.10/dist-packages (from requests>=2.19.0->pooch>=1.5->mne->braindecode) (2023.11.17)\n",
            "Installing collected packages: torchinfo, einops, docstring-inheritance, skorch, mne, braindecode\n",
            "Successfully installed braindecode-0.8.1 docstring-inheritance-2.1.2 einops-0.7.0 mne-1.6.0 skorch-0.15.0 torchinfo-1.8.0\n"
          ]
        }
      ],
      "source": [
        "!pip install braindecode"
      ]
    },
    {
      "cell_type": "code",
      "source": [
        "!pip install moabb"
      ],
      "metadata": {
        "colab": {
          "base_uri": "https://localhost:8080/"
        },
        "id": "2gBrEwdO71h4",
        "outputId": "dc1b5e9f-924a-40da-f31b-d322a02d828b"
      },
      "execution_count": null,
      "outputs": [
        {
          "output_type": "stream",
          "name": "stdout",
          "text": [
            "Collecting moabb\n",
            "  Downloading moabb-1.0.0-py3-none-any.whl (563 kB)\n",
            "\u001b[2K     \u001b[90m━━━━━━━━━━━━━━━━━━━━━━━━━━━━━━━━━━━━━━━━\u001b[0m \u001b[32m563.8/563.8 kB\u001b[0m \u001b[31m6.4 MB/s\u001b[0m eta \u001b[36m0:00:00\u001b[0m\n",
            "\u001b[?25hRequirement already satisfied: PyYAML<7.0,>=6.0 in /usr/local/lib/python3.10/dist-packages (from moabb) (6.0.1)\n",
            "Collecting coverage<8.0.0,>=7.0.1 (from moabb)\n",
            "  Downloading coverage-7.4.0-cp310-cp310-manylinux_2_5_x86_64.manylinux1_x86_64.manylinux_2_17_x86_64.manylinux2014_x86_64.whl (233 kB)\n",
            "\u001b[2K     \u001b[90m━━━━━━━━━━━━━━━━━━━━━━━━━━━━━━━━━━━━━━━━\u001b[0m \u001b[32m233.2/233.2 kB\u001b[0m \u001b[31m19.2 MB/s\u001b[0m eta \u001b[36m0:00:00\u001b[0m\n",
            "\u001b[?25hCollecting edflib-python<2.0.0,>=1.0.6 (from moabb)\n",
            "  Downloading EDFlib_Python-1.0.8-py3-none-any.whl (26 kB)\n",
            "Collecting h5py<=3.8.0 (from moabb)\n",
            "  Downloading h5py-3.8.0-cp310-cp310-manylinux_2_17_x86_64.manylinux2014_x86_64.whl (4.6 MB)\n",
            "\u001b[2K     \u001b[90m━━━━━━━━━━━━━━━━━━━━━━━━━━━━━━━━━━━━━━━━\u001b[0m \u001b[32m4.6/4.6 MB\u001b[0m \u001b[31m62.5 MB/s\u001b[0m eta \u001b[36m0:00:00\u001b[0m\n",
            "\u001b[?25hRequirement already satisfied: matplotlib<4.0.0,>=3.6.2 in /usr/local/lib/python3.10/dist-packages (from moabb) (3.7.1)\n",
            "Collecting memory-profiler<0.62.0,>=0.61.0 (from moabb)\n",
            "  Downloading memory_profiler-0.61.0-py3-none-any.whl (31 kB)\n",
            "Requirement already satisfied: mne<2.0,>=1.4 in /usr/local/lib/python3.10/dist-packages (from moabb) (1.6.0)\n",
            "Collecting mne-bids<0.14,>=0.13 (from moabb)\n",
            "  Downloading mne_bids-0.13-py2.py3-none-any.whl (1.2 MB)\n",
            "\u001b[2K     \u001b[90m━━━━━━━━━━━━━━━━━━━━━━━━━━━━━━━━━━━━━━━━\u001b[0m \u001b[32m1.2/1.2 MB\u001b[0m \u001b[31m57.9 MB/s\u001b[0m eta \u001b[36m0:00:00\u001b[0m\n",
            "\u001b[?25hRequirement already satisfied: numpy<2.0,>=1.22 in /usr/local/lib/python3.10/dist-packages (from moabb) (1.23.5)\n",
            "Requirement already satisfied: pandas<2.0.0,>=1.5.2 in /usr/local/lib/python3.10/dist-packages (from moabb) (1.5.3)\n",
            "Requirement already satisfied: pooch<2.0.0,>=1.6.0 in /usr/local/lib/python3.10/dist-packages (from moabb) (1.8.0)\n",
            "Collecting pyriemann<0.6,>=0.5 (from moabb)\n",
            "  Downloading pyriemann-0.5.tar.gz (119 kB)\n",
            "\u001b[2K     \u001b[90m━━━━━━━━━━━━━━━━━━━━━━━━━━━━━━━━━━━━━━━━\u001b[0m \u001b[32m119.2/119.2 kB\u001b[0m \u001b[31m14.0 MB/s\u001b[0m eta \u001b[36m0:00:00\u001b[0m\n",
            "\u001b[?25h  Preparing metadata (setup.py) ... \u001b[?25l\u001b[?25hdone\n",
            "Requirement already satisfied: pytest<8.0.0,>=7.4.0 in /usr/local/lib/python3.10/dist-packages (from moabb) (7.4.3)\n",
            "Requirement already satisfied: requests<3.0.0,>=2.28.1 in /usr/local/lib/python3.10/dist-packages (from moabb) (2.31.0)\n",
            "Requirement already satisfied: scikit-learn<2.0.0,>=1.2.0 in /usr/local/lib/python3.10/dist-packages (from moabb) (1.2.2)\n",
            "Requirement already satisfied: scipy<2.0.0,>=1.9.3 in /usr/local/lib/python3.10/dist-packages (from moabb) (1.11.4)\n",
            "Requirement already satisfied: seaborn<0.13.0,>=0.12.1 in /usr/local/lib/python3.10/dist-packages (from moabb) (0.12.2)\n",
            "Requirement already satisfied: tqdm<5.0.0,>=4.64.1 in /usr/local/lib/python3.10/dist-packages (from moabb) (4.66.1)\n",
            "Collecting urllib3<2.0.0,>=1.26.15 (from moabb)\n",
            "  Downloading urllib3-1.26.18-py2.py3-none-any.whl (143 kB)\n",
            "\u001b[2K     \u001b[90m━━━━━━━━━━━━━━━━━━━━━━━━━━━━━━━━━━━━━━━━\u001b[0m \u001b[32m143.8/143.8 kB\u001b[0m \u001b[31m17.1 MB/s\u001b[0m eta \u001b[36m0:00:00\u001b[0m\n",
            "\u001b[?25hRequirement already satisfied: contourpy>=1.0.1 in /usr/local/lib/python3.10/dist-packages (from matplotlib<4.0.0,>=3.6.2->moabb) (1.2.0)\n",
            "Requirement already satisfied: cycler>=0.10 in /usr/local/lib/python3.10/dist-packages (from matplotlib<4.0.0,>=3.6.2->moabb) (0.12.1)\n",
            "Requirement already satisfied: fonttools>=4.22.0 in /usr/local/lib/python3.10/dist-packages (from matplotlib<4.0.0,>=3.6.2->moabb) (4.47.0)\n",
            "Requirement already satisfied: kiwisolver>=1.0.1 in /usr/local/lib/python3.10/dist-packages (from matplotlib<4.0.0,>=3.6.2->moabb) (1.4.5)\n",
            "Requirement already satisfied: packaging>=20.0 in /usr/local/lib/python3.10/dist-packages (from matplotlib<4.0.0,>=3.6.2->moabb) (23.2)\n",
            "Requirement already satisfied: pillow>=6.2.0 in /usr/local/lib/python3.10/dist-packages (from matplotlib<4.0.0,>=3.6.2->moabb) (9.4.0)\n",
            "Requirement already satisfied: pyparsing>=2.3.1 in /usr/local/lib/python3.10/dist-packages (from matplotlib<4.0.0,>=3.6.2->moabb) (3.1.1)\n",
            "Requirement already satisfied: python-dateutil>=2.7 in /usr/local/lib/python3.10/dist-packages (from matplotlib<4.0.0,>=3.6.2->moabb) (2.8.2)\n",
            "Requirement already satisfied: psutil in /usr/local/lib/python3.10/dist-packages (from memory-profiler<0.62.0,>=0.61.0->moabb) (5.9.5)\n",
            "Requirement already satisfied: decorator in /usr/local/lib/python3.10/dist-packages (from mne<2.0,>=1.4->moabb) (4.4.2)\n",
            "Requirement already satisfied: jinja2 in /usr/local/lib/python3.10/dist-packages (from mne<2.0,>=1.4->moabb) (3.1.2)\n",
            "Requirement already satisfied: lazy-loader>=0.3 in /usr/local/lib/python3.10/dist-packages (from mne<2.0,>=1.4->moabb) (0.3)\n",
            "Requirement already satisfied: defusedxml in /usr/local/lib/python3.10/dist-packages (from mne<2.0,>=1.4->moabb) (0.7.1)\n",
            "Requirement already satisfied: pytz>=2020.1 in /usr/local/lib/python3.10/dist-packages (from pandas<2.0.0,>=1.5.2->moabb) (2023.3.post1)\n",
            "Requirement already satisfied: platformdirs>=2.5.0 in /usr/local/lib/python3.10/dist-packages (from pooch<2.0.0,>=1.6.0->moabb) (4.1.0)\n",
            "Requirement already satisfied: joblib in /usr/local/lib/python3.10/dist-packages (from pyriemann<0.6,>=0.5->moabb) (1.3.2)\n",
            "Requirement already satisfied: iniconfig in /usr/local/lib/python3.10/dist-packages (from pytest<8.0.0,>=7.4.0->moabb) (2.0.0)\n",
            "Requirement already satisfied: pluggy<2.0,>=0.12 in /usr/local/lib/python3.10/dist-packages (from pytest<8.0.0,>=7.4.0->moabb) (1.3.0)\n",
            "Requirement already satisfied: exceptiongroup>=1.0.0rc8 in /usr/local/lib/python3.10/dist-packages (from pytest<8.0.0,>=7.4.0->moabb) (1.2.0)\n",
            "Requirement already satisfied: tomli>=1.0.0 in /usr/local/lib/python3.10/dist-packages (from pytest<8.0.0,>=7.4.0->moabb) (2.0.1)\n",
            "Requirement already satisfied: charset-normalizer<4,>=2 in /usr/local/lib/python3.10/dist-packages (from requests<3.0.0,>=2.28.1->moabb) (3.3.2)\n",
            "Requirement already satisfied: idna<4,>=2.5 in /usr/local/lib/python3.10/dist-packages (from requests<3.0.0,>=2.28.1->moabb) (3.6)\n",
            "Requirement already satisfied: certifi>=2017.4.17 in /usr/local/lib/python3.10/dist-packages (from requests<3.0.0,>=2.28.1->moabb) (2023.11.17)\n",
            "Requirement already satisfied: threadpoolctl>=2.0.0 in /usr/local/lib/python3.10/dist-packages (from scikit-learn<2.0.0,>=1.2.0->moabb) (3.2.0)\n",
            "Requirement already satisfied: six>=1.5 in /usr/local/lib/python3.10/dist-packages (from python-dateutil>=2.7->matplotlib<4.0.0,>=3.6.2->moabb) (1.16.0)\n",
            "Requirement already satisfied: MarkupSafe>=2.0 in /usr/local/lib/python3.10/dist-packages (from jinja2->mne<2.0,>=1.4->moabb) (2.1.3)\n",
            "Building wheels for collected packages: pyriemann\n",
            "  Building wheel for pyriemann (setup.py) ... \u001b[?25l\u001b[?25hdone\n",
            "  Created wheel for pyriemann: filename=pyriemann-0.5-py2.py3-none-any.whl size=107752 sha256=294297968add9dec34645107be60189ba988dbce40933209bc320329d5fcfb7f\n",
            "  Stored in directory: /root/.cache/pip/wheels/84/86/79/622e9c1dc933dc088e287ebfaac5aa9bdc6a38a9db193ce1f1\n",
            "Successfully built pyriemann\n",
            "Installing collected packages: urllib3, memory-profiler, h5py, edflib-python, coverage, pyriemann, mne-bids, moabb\n",
            "  Attempting uninstall: urllib3\n",
            "    Found existing installation: urllib3 2.0.7\n",
            "    Uninstalling urllib3-2.0.7:\n",
            "      Successfully uninstalled urllib3-2.0.7\n",
            "  Attempting uninstall: h5py\n",
            "    Found existing installation: h5py 3.9.0\n",
            "    Uninstalling h5py-3.9.0:\n",
            "      Successfully uninstalled h5py-3.9.0\n",
            "Successfully installed coverage-7.4.0 edflib-python-1.0.8 h5py-3.8.0 memory-profiler-0.61.0 mne-bids-0.13 moabb-1.0.0 pyriemann-0.5 urllib3-1.26.18\n"
          ]
        }
      ]
    },
    {
      "cell_type": "code",
      "source": [
        "from braindecode.datasets import MOABBDataset\n",
        "\n",
        "subject_id = 3\n",
        "dataset = MOABBDataset(dataset_name = \"BNCI2014_001\", subject_ids = [subject_id])\n"
      ],
      "metadata": {
        "id": "hcjzAMXhzgXx",
        "colab": {
          "base_uri": "https://localhost:8080/"
        },
        "outputId": "5c804437-e70a-4036-d53a-7b2e7659c176"
      },
      "execution_count": null,
      "outputs": [
        {
          "output_type": "stream",
          "name": "stderr",
          "text": [
            "<frozen importlib._bootstrap>:241: FutureWarning: mne.io.pick.pick_types is deprecated will be removed in 1.6, use documented public API instead. If no appropriate public API exists, please open an issue on GitHub.\n",
            "<frozen importlib._bootstrap>:241: FutureWarning: mne.io.pick.pick_channels_regexp is deprecated will be removed in 1.6, use documented public API instead. If no appropriate public API exists, please open an issue on GitHub.\n",
            "<frozen importlib._bootstrap>:241: FutureWarning: mne.io.pick.channel_type is deprecated will be removed in 1.6, use documented public API instead. If no appropriate public API exists, please open an issue on GitHub.\n",
            "/usr/local/lib/python3.10/dist-packages/moabb/pipelines/__init__.py:26: ModuleNotFoundError: Tensorflow is not installed. You won't be able to use these MOABB pipelines if you attempt to do so.\n",
            "  warn(\n",
            "/usr/local/lib/python3.10/dist-packages/moabb/datasets/download.py:55: RuntimeWarning: Setting non-standard config type: \"MNE_DATASETS_BNCI_PATH\"\n",
            "  set_config(key, get_config(\"MNE_DATA\"))\n",
            "Downloading data from 'http://bnci-horizon-2020.eu/database/data-sets/001-2014/A03T.mat' to file '/root/mne_data/MNE-bnci-data/database/data-sets/001-2014/A03T.mat'.\n"
          ]
        },
        {
          "output_type": "stream",
          "name": "stdout",
          "text": [
            "MNE_DATA is not already configured. It will be set to default location in the home directory - /root/mne_data\n",
            "All datasets will be downloaded to this location, if anything is already downloaded, please move manually to this location\n"
          ]
        },
        {
          "output_type": "stream",
          "name": "stderr",
          "text": [
            "/usr/local/lib/python3.10/dist-packages/urllib3/connectionpool.py:1061: InsecureRequestWarning: Unverified HTTPS request is being made to host 'lampx.tugraz.at'. Adding certificate verification is strongly advised. See: https://urllib3.readthedocs.io/en/1.26.x/advanced-usage.html#ssl-warnings\n",
            "  warnings.warn(\n",
            "100%|█████████████████████████████████████| 44.1M/44.1M [00:00<00:00, 20.4GB/s]\n",
            "SHA256 hash of downloaded file: 7e731ee8b681d5da6ecb11ae1d4e64b1653c7f15aad5d6b7620b25ce53141e80\n",
            "Use this value as the 'known_hash' argument of 'pooch.retrieve' to ensure that the file hasn't changed if it is downloaded again in the future.\n",
            "Downloading data from 'http://bnci-horizon-2020.eu/database/data-sets/001-2014/A03E.mat' to file '/root/mne_data/MNE-bnci-data/database/data-sets/001-2014/A03E.mat'.\n",
            "/usr/local/lib/python3.10/dist-packages/urllib3/connectionpool.py:1061: InsecureRequestWarning: Unverified HTTPS request is being made to host 'lampx.tugraz.at'. Adding certificate verification is strongly advised. See: https://urllib3.readthedocs.io/en/1.26.x/advanced-usage.html#ssl-warnings\n",
            "  warnings.warn(\n",
            "100%|█████████████████████████████████████| 42.3M/42.3M [00:00<00:00, 22.2GB/s]\n",
            "SHA256 hash of downloaded file: d4229267ec7624fa8bd3af5cbebac17f415f7c722de6cb676748f8cb3b717d97\n",
            "Use this value as the 'known_hash' argument of 'pooch.retrieve' to ensure that the file hasn't changed if it is downloaded again in the future.\n"
          ]
        }
      ]
    },
    {
      "cell_type": "code",
      "source": [
        "import numpy as np\n",
        "\n",
        "from braindecode.preprocessing import(exponential_moving_standardize,\n",
        "                                      preprocess,\n",
        "                                      Preprocessor)\n",
        "low_cut_hz = 4.0\n",
        "high_cut_hz = 38.0\n",
        "\n",
        "factor_new = 1e-3\n",
        "init_block_size = 1000\n",
        "\n",
        "\n",
        "preprocessors = [\n",
        "    Preprocessor(\"pick_types\", eeg = True, meg = False, stim = False),\n",
        "    Preprocessor(\n",
        "        lambda data, factor: np.multiply(data, factor),\n",
        "        factor = 1e6),\n",
        "    Preprocessor(\"filter\", l_freq = low_cut_hz, h_freq = high_cut_hz),\n",
        "    Preprocessor(\n",
        "        exponential_moving_standardize,\n",
        "        factor_new = factor_new,\n",
        "        init_block_size = init_block_size)]\n",
        "\n",
        "\n",
        "preprocess(dataset, preprocessors, n_jobs = -1)\n",
        "\n"
      ],
      "metadata": {
        "colab": {
          "base_uri": "https://localhost:8080/"
        },
        "id": "NgIvDsWazgoL",
        "outputId": "1ae51976-edc5-4d0c-e86a-abb361ab9475"
      },
      "execution_count": null,
      "outputs": [
        {
          "output_type": "stream",
          "name": "stderr",
          "text": [
            "/usr/local/lib/python3.10/dist-packages/braindecode/preprocessing/preprocess.py:55: UserWarning: Preprocessing choices with lambda functions cannot be saved.\n",
            "  warn('Preprocessing choices with lambda functions cannot be saved.')\n"
          ]
        },
        {
          "output_type": "execute_result",
          "data": {
            "text/plain": [
              "<braindecode.datasets.moabb.MOABBDataset at 0x7b6394f611b0>"
            ]
          },
          "metadata": {},
          "execution_count": 4
        }
      ]
    },
    {
      "cell_type": "code",
      "source": [
        "from braindecode.preprocessing import create_windows_from_events\n",
        "\n",
        "trial_start_offset_seconds = -0.5\n",
        "sfreq = dataset.datasets[0].raw.info[\"sfreq\"]\n",
        "assert all([ds.raw.info[\"sfreq\"] == sfreq for ds in dataset.datasets])\n",
        "trial_start_offset_samples = int(trial_start_offset_seconds * sfreq)\n",
        "\n",
        "windows_dataset =  create_windows_from_events(\n",
        "     dataset,\n",
        "     trial_start_offset_samples = trial_start_offset_samples,\n",
        "     trial_stop_offset_samples = 0,\n",
        "     preload = True\n",
        " )"
      ],
      "metadata": {
        "colab": {
          "base_uri": "https://localhost:8080/"
        },
        "id": "UidlvRtWzg1q",
        "outputId": "e0f8ba46-0669-4aec-dcf6-14a8aab904d2"
      },
      "execution_count": null,
      "outputs": [
        {
          "output_type": "stream",
          "name": "stdout",
          "text": [
            "Used Annotations descriptions: ['feet', 'left_hand', 'right_hand', 'tongue']\n",
            "Used Annotations descriptions: ['feet', 'left_hand', 'right_hand', 'tongue']\n",
            "Used Annotations descriptions: ['feet', 'left_hand', 'right_hand', 'tongue']\n",
            "Used Annotations descriptions: ['feet', 'left_hand', 'right_hand', 'tongue']\n",
            "Used Annotations descriptions: ['feet', 'left_hand', 'right_hand', 'tongue']\n",
            "Used Annotations descriptions: ['feet', 'left_hand', 'right_hand', 'tongue']\n",
            "Used Annotations descriptions: ['feet', 'left_hand', 'right_hand', 'tongue']\n",
            "Used Annotations descriptions: ['feet', 'left_hand', 'right_hand', 'tongue']\n",
            "Used Annotations descriptions: ['feet', 'left_hand', 'right_hand', 'tongue']\n",
            "Used Annotations descriptions: ['feet', 'left_hand', 'right_hand', 'tongue']\n",
            "Used Annotations descriptions: ['feet', 'left_hand', 'right_hand', 'tongue']\n",
            "Used Annotations descriptions: ['feet', 'left_hand', 'right_hand', 'tongue']\n"
          ]
        }
      ]
    },
    {
      "cell_type": "code",
      "source": [
        "splitted = windows_dataset.split(\"session\")\n",
        "train_set = splitted['0train']\n",
        "test_set = splitted['1test']"
      ],
      "metadata": {
        "id": "7lWl-QbZ-CVv"
      },
      "execution_count": null,
      "outputs": []
    },
    {
      "cell_type": "code",
      "source": [
        "import torch\n",
        "from braindecode.util import set_random_seeds\n",
        "from braindecode.models import ShallowFBCSPNet\n",
        "\n",
        "cuda = torch.cuda.is_available()\n",
        "device = \"cuda\" if cuda else \"cpu\"\n",
        "if cuda:\n",
        "  torch.backends.cudnn.benchmark = True\n",
        "seed = 20200220\n",
        "set_random_seeds(seed = seed, cuda = cuda)\n",
        "\n",
        "n_classes = 4\n",
        "classes = list(range(n_classes))\n",
        "n_channels = windows_dataset[0][0].shape[0]\n",
        "input_window_samples = windows_dataset[0][0].shape[1]\n",
        "\n",
        "model = ShallowFBCSPNet(\n",
        "    n_channels,\n",
        "    n_classes,\n",
        "    input_window_samples = input_window_samples,\n",
        "    final_conv_length =\"auto\"\n",
        ")\n",
        "\n",
        "print(model)\n",
        "\n",
        "if cuda:\n",
        "  model.cuda()"
      ],
      "metadata": {
        "colab": {
          "base_uri": "https://localhost:8080/"
        },
        "id": "NxiBZ58O-CoI",
        "outputId": "18e4ba17-7f78-4343-f5cd-2242e90a13cc"
      },
      "execution_count": null,
      "outputs": [
        {
          "output_type": "stream",
          "name": "stderr",
          "text": [
            "/usr/local/lib/python3.10/dist-packages/braindecode/models/base.py:23: UserWarning: ShallowFBCSPNet: 'input_window_samples' is depreciated. Use 'n_times' instead.\n",
            "  warnings.warn(\n"
          ]
        },
        {
          "output_type": "stream",
          "name": "stdout",
          "text": [
            "============================================================================================================================================\n",
            "Layer (type (var_name):depth-idx)        Input Shape               Output Shape              Param #                   Kernel Shape\n",
            "============================================================================================================================================\n",
            "ShallowFBCSPNet (ShallowFBCSPNet)        [1, 22, 1125]             [1, 4]                    --                        --\n",
            "├─Ensure4d (ensuredims): 1-1             [1, 22, 1125]             [1, 22, 1125, 1]          --                        --\n",
            "├─Rearrange (dimshuffle): 1-2            [1, 22, 1125, 1]          [1, 1, 1125, 22]          --                        --\n",
            "├─CombinedConv (conv_time_spat): 1-3     [1, 1, 1125, 22]          [1, 40, 1101, 1]          36,240                    --\n",
            "├─BatchNorm2d (bnorm): 1-4               [1, 40, 1101, 1]          [1, 40, 1101, 1]          80                        --\n",
            "├─Expression (conv_nonlin_exp): 1-5      [1, 40, 1101, 1]          [1, 40, 1101, 1]          --                        --\n",
            "├─AvgPool2d (pool): 1-6                  [1, 40, 1101, 1]          [1, 40, 69, 1]            --                        [75, 1]\n",
            "├─Expression (pool_nonlin_exp): 1-7      [1, 40, 69, 1]            [1, 40, 69, 1]            --                        --\n",
            "├─Dropout (drop): 1-8                    [1, 40, 69, 1]            [1, 40, 69, 1]            --                        --\n",
            "├─Sequential (final_layer): 1-9          [1, 40, 69, 1]            [1, 4]                    --                        --\n",
            "│    └─Conv2d (conv_classifier): 2-1     [1, 40, 69, 1]            [1, 4, 1, 1]              11,044                    [69, 1]\n",
            "│    └─LogSoftmax (logsoftmax): 2-2      [1, 4, 1, 1]              [1, 4, 1, 1]              --                        --\n",
            "│    └─Expression (squeeze): 2-3         [1, 4, 1, 1]              [1, 4]                    --                        --\n",
            "============================================================================================================================================\n",
            "Total params: 47,364\n",
            "Trainable params: 47,364\n",
            "Non-trainable params: 0\n",
            "Total mult-adds (M): 0.01\n",
            "============================================================================================================================================\n",
            "Input size (MB): 0.10\n",
            "Forward/backward pass size (MB): 0.35\n",
            "Params size (MB): 0.04\n",
            "Estimated Total Size (MB): 0.50\n",
            "============================================================================================================================================\n"
          ]
        },
        {
          "output_type": "stream",
          "name": "stderr",
          "text": [
            "/usr/local/lib/python3.10/dist-packages/braindecode/models/base.py:180: UserWarning: LogSoftmax final layer will be removed! Please adjust your loss function accordingly (e.g. CrossEntropyLoss)!\n",
            "  warnings.warn(\"LogSoftmax final layer will be removed! \" +\n"
          ]
        }
      ]
    },
    {
      "cell_type": "code",
      "source": [
        "from skorch.callbacks import LRScheduler\n",
        "from braindecode import EEGClassifier\n",
        "\n",
        "lr = 0.0625 * 0.01\n",
        "weight_decay = 0\n",
        "batch_size = 64\n",
        "n_epochs = 2\n",
        "\n",
        "clf = EEGClassifier(\n",
        "    model,\n",
        "    criterion = torch.nn.NLLLoss,\n",
        "    optimizer = torch.optim.AdamW,\n",
        "    train_split = None,\n",
        "    optimizer__lr = lr,\n",
        "    optimizer__weight_decay = weight_decay,\n",
        "    batch_size = batch_size,\n",
        "    callbacks =[\"accuracy\", (\"lr_scheduler\", LRScheduler(\"CosineAnnealingLR\", T_max = n_epochs - 1))],\n",
        "    device = device,\n",
        "    classes = classes,\n",
        "    max_epochs = n_epochs\n",
        ")\n",
        "\n",
        "clf.fit(train_set, y = None)\n",
        "\n",
        "y_test = test_set.get_metadata().target\n",
        "test_acc = clf.score(test_set, y = y_test)\n",
        "print(f\"Test acc: {(test_acc * 100): .2f}%\")\n"
      ],
      "metadata": {
        "colab": {
          "base_uri": "https://localhost:8080/"
        },
        "id": "cnlQcITS-C7i",
        "outputId": "ace05a07-796f-44b0-d077-3b502b788e27"
      },
      "execution_count": null,
      "outputs": [
        {
          "output_type": "stream",
          "name": "stdout",
          "text": [
            "  epoch    train_accuracy    train_loss      lr     dur\n",
            "-------  ----------------  ------------  ------  ------\n",
            "      1            \u001b[36m0.2500\u001b[0m        \u001b[32m1.5950\u001b[0m  0.0006  4.4941\n",
            "      2            0.2500        \u001b[32m1.3661\u001b[0m  0.0000  3.3895\n",
            "Test acc:  25.35%\n"
          ]
        }
      ]
    },
    {
      "cell_type": "code",
      "source": [
        "import seaborn as sns\n",
        "import matplotlib.pyplot as plt\n",
        "from matplotlib.patches import Patch\n",
        "\n",
        "sns.set(font_scale = 1.5)\n",
        "\n",
        "def plot_simple_train_test(ax, all_dataset, train_set, test_set):\n",
        "  \"\"\"Create a sample plot for training-testing split\"\"\"\n",
        "  bd_cmap = [\"#3A6190\", \"#683E00\", \"#DDF2FF\", \"#2196F3\"]\n",
        "\n",
        "  ax.barh(\"Original\\ndataset\", len(all_dataset), left = 0, height = 1,\n",
        "          color = bd_cmap[0])\n",
        "  ax.barh(\"Train-Test\\nsplit\", len(train_set), left = 0, height = 1, color = bd_cmap[1])\n",
        "  ax.barh(\"Train - Test \\nsplit\", len(test_set), left = len(train_set), height = 1,\n",
        "          color = bd_cmap[3])\n",
        "  ax.invert_yaxis()\n",
        "\n",
        "  ax.set(xlabel = \"Number of samples.\", title = \"Train - Test split\")\n",
        "  ax.legend([\"Original set\", \"Training set\", \"Testing set\"], loc = 'lower center', ncols = 4, bbox_to_anchor = (0.5, 0.5))\n",
        "  ax.set_xlim([-int(0.1 * len(all_dataset)), int(1.1 * len(all_dataset))])\n",
        "  return ax\n",
        "\n",
        "\n",
        "\n",
        "fig, ax = plt.subplots(figsize = (12, 8))\n",
        "plot_simple_train_test(ax = ax, all_dataset = windows_dataset, train_set = train_set,\n",
        "                       test_set = test_set)\n",
        "\n"
      ],
      "metadata": {
        "id": "lQKSMcSy-DKv",
        "colab": {
          "base_uri": "https://localhost:8080/",
          "height": 454
        },
        "outputId": "c922688e-8b52-4388-ec88-fde5e327c8f2"
      },
      "execution_count": null,
      "outputs": [
        {
          "output_type": "execute_result",
          "data": {
            "text/plain": [
              "<Axes: title={'center': 'Train - Test split'}, xlabel='Number of samples.'>"
            ]
          },
          "metadata": {},
          "execution_count": 9
        },
        {
          "output_type": "display_data",
          "data": {
            "text/plain": [
              "<Figure size 1200x800 with 1 Axes>"
            ],
            "image/png": "[encoded data removed]"
          },
          "metadata": {}
        }
      ]
    },
    {
      "cell_type": "code",
      "source": [
        "from torch.utils.data import Subset\n",
        "from sklearn.model_selection import train_test_split\n",
        "from skorch.helper import predefined_split, SliceDataset\n",
        "\n",
        "X_train = SliceDataset(train_set, idx = 0)\n",
        "y_train = np.array([y for y in SliceDataset(train_set, idx = 1)])\n",
        "train_indices, val_indices = train_test_split(\n",
        "    X_train.indices_, test_size = 0.2, shuffle = False\n",
        ")\n",
        "\n",
        "train_subset = Subset(train_set, train_indices)\n",
        "val_subset = Subset(train_set, val_indices)"
      ],
      "metadata": {
        "id": "690NmIHWWhPk"
      },
      "execution_count": null,
      "outputs": []
    },
    {
      "cell_type": "code",
      "source": [
        "clf = EEGClassifier(\n",
        "    model,\n",
        "    criterion = torch.nn.NLLLoss,\n",
        "    optimizer = torch.optim.AdamW,\n",
        "    train_split = predefined_split(val_subset),\n",
        "    optimizer__lr =lr,\n",
        "    optimizer__weight_decay = weight_decay,\n",
        "    batch_size = batch_size,\n",
        "    callbacks =[\n",
        "        \"accuracy\",\n",
        "        (\"lr_scheduler\", LRScheduler(\"CosineAnnealingLR\", T_max = n_epochs - 1)),\n",
        "    ],\n",
        "    device = device,\n",
        "    classes = classes,\n",
        "    max_epochs = n_epochs\n",
        ")\n",
        "\n",
        "clf.fit(train_subset, y = None)\n",
        "\n",
        "y_test = test_set.get_metadata().target\n",
        "test_acc = clf.score(test_set, y=y_test)\n",
        "print(f\"Test acc: {(test_acc * 100): .2f}%\")\n"
      ],
      "metadata": {
        "id": "8B4ofNKiWhrX",
        "colab": {
          "base_uri": "https://localhost:8080/"
        },
        "outputId": "9d61a682-92d9-45b6-ed9f-e2584afe2314"
      },
      "execution_count": null,
      "outputs": [
        {
          "output_type": "stream",
          "name": "stdout",
          "text": [
            "  epoch    train_accuracy    train_loss    valid_acc    valid_accuracy    valid_loss      lr     dur\n",
            "-------  ----------------  ------------  -----------  ----------------  ------------  ------  ------\n",
            "      1            \u001b[36m0.3435\u001b[0m        \u001b[32m1.3505\u001b[0m       \u001b[35m0.2759\u001b[0m            \u001b[31m0.2759\u001b[0m        \u001b[94m2.2668\u001b[0m  0.0006  3.9802\n",
            "      2            \u001b[36m0.3478\u001b[0m        \u001b[32m1.1789\u001b[0m       0.2759            0.2759        \u001b[94m2.0686\u001b[0m  0.0000  3.2337\n",
            "Test acc:  27.43%\n"
          ]
        }
      ]
    },
    {
      "cell_type": "code",
      "source": [
        "def plot_train_valid_test(ax, all_dataset, train_subset, val_subset, test_set):\n",
        "  \"\"\"CReate a sample plot for training, validation, testing.\"\"\"\n",
        "\n",
        "  bd_cmap = [\"#3A6190\", \"#683E00\", \"#2196F3\", \"#DDF2FF\"]\n",
        "\n",
        "  n_train, n_val, n_test = len(train_subset), len(val_subset), len(test_set)\n",
        "\n",
        "  ax.barh(\"Original\\ndataset\", len(all_dataset), left = 0, height = 1, color = bd_cmap[0])\n",
        "  ax.barh(\"Train-Test-Valid\\nsplit\", n_train, left = 0, height = 1, color = bd_cmap[1])\n",
        "  ax.barh(\"Train-Test-Valid\\nsplit\", n_val, left = n_train, height = 1, color = bd_cmap[2])\n",
        "  ax.barh(\"Train-Test-Valid\\nsplit\", n_test, left = n_train + n_val, height = 1, color = bd_cmap[3])\n",
        "\n",
        "\n",
        "  ax.invert_yaxis()\n",
        "  ax.set(xlabel = \"Number of samples.\", title = \"Train-Test-Valid split\")\n",
        "  ax.legend([\"Original set\", \"Training set\", \"Validation set\", \"Testing set\"],\n",
        "            loc = \"lower center\", ncols = 2, bbox_to_anchor = (0.5, 0.4))\n",
        "  ax.set_xlim([-int(0.1 * len(all_dataset)), int(1.1 * len(all_dataset))])\n",
        "  return ax\n",
        "\n",
        "\n",
        "fig, ax = plt.subplots(figsize = (12, 5))\n",
        "plot_train_valid_test(ax = ax, all_dataset = windows_dataset,\n",
        "                      train_subset = train_subset, val_subset = val_subset, test_set = test_set)\n"
      ],
      "metadata": {
        "id": "GNU5qb42WiFG",
        "colab": {
          "base_uri": "https://localhost:8080/",
          "height": 311
        },
        "outputId": "1d6fd39e-3827-4a72-c4ea-8844d129525c"
      },
      "execution_count": null,
      "outputs": [
        {
          "output_type": "execute_result",
          "data": {
            "text/plain": [
              "<Axes: title={'center': 'Train-Test-Valid split'}, xlabel='Number of samples.'>"
            ]
          },
          "metadata": {},
          "execution_count": 12
        },
        {
          "output_type": "display_data",
          "data": {
            "text/plain": [
              "<Figure size 1200x500 with 1 Axes>"
            ],
            "image/png": "[encoded data removed]"
          },
          "metadata": {}
        }
      ]
    },
    {
      "cell_type": "markdown",
      "source": [],
      "metadata": {
        "id": "QVps28XoWif6"
      }
    },
    {
      "cell_type": "code",
      "source": [
        "from skorch.callbacks import LRScheduler\n",
        "from braindecode import EEGClassifier\n",
        "from sklearn.model_selection import KFold, cross_val_score\n",
        "\n",
        "\n",
        "lr = 0.0625 * 0.01\n",
        "weight_decay = 0\n",
        "batch_size = 64\n",
        "n_epochs = 2\n",
        "\n",
        "clf = EEGClassifier(\n",
        "    model,\n",
        "    criterion = torch.nn.NLLLoss,\n",
        "    optimizer = torch.optim.AdamW,\n",
        "    train_split = None,\n",
        "    optimizer__lr = lr,\n",
        "    optimizer__weight_decay = weight_decay,\n",
        "    batch_size = batch_size,\n",
        "    callbacks = [\n",
        "        \"accuracy\",\n",
        "        (\"lr_scheduler\", LRScheduler(\"CosineAnnealingLR\", T_max = n_epochs - 1)),\n",
        "    ],\n",
        "    device = device,\n",
        "    classes = classes,\n",
        "    max_epochs = n_epochs\n",
        ")\n",
        "\n",
        "train_val_split = KFold(n_splits = 5, shuffle = False)\n",
        "cv_results = cross_val_score(\n",
        "    clf, X_train, y_train, scoring = \"accuracy\", cv = train_val_split, n_jobs = 1\n",
        ")\n",
        "print(\n",
        "    f\"Validation accuracy: {np.mean(cv_results * 100): .2f}\"\n",
        "    f\"+-{np.std(cv_results * 100): .2f}%\"\n",
        ")"
      ],
      "metadata": {
        "colab": {
          "base_uri": "https://localhost:8080/"
        },
        "id": "RbZ70FatraF4",
        "outputId": "027ad300-ee97-44c6-87a1-051774933542"
      },
      "execution_count": null,
      "outputs": [
        {
          "output_type": "stream",
          "name": "stdout",
          "text": [
            "  epoch    train_accuracy    train_loss      lr     dur\n",
            "-------  ----------------  ------------  ------  ------\n",
            "      1            \u001b[36m0.3870\u001b[0m        \u001b[32m1.2082\u001b[0m  0.0006  5.4614\n",
            "      2            \u001b[36m0.3957\u001b[0m        \u001b[32m1.1560\u001b[0m  0.0000  5.6039\n",
            "  epoch    train_accuracy    train_loss      lr     dur\n",
            "-------  ----------------  ------------  ------  ------\n",
            "      1            \u001b[36m0.2870\u001b[0m        \u001b[32m1.2641\u001b[0m  0.0006  5.6515\n",
            "      2            0.2870        \u001b[32m1.2266\u001b[0m  0.0000  4.7512\n",
            "  epoch    train_accuracy    train_loss      lr     dur\n",
            "-------  ----------------  ------------  ------  ------\n",
            "      1            \u001b[36m0.3957\u001b[0m        \u001b[32m1.3003\u001b[0m  0.0006  2.5861\n",
            "      2            \u001b[36m0.4087\u001b[0m        \u001b[32m1.1477\u001b[0m  0.0000  3.7161\n",
            "  epoch    train_accuracy    train_loss      lr     dur\n",
            "-------  ----------------  ------------  ------  ------\n",
            "      1            \u001b[36m0.2727\u001b[0m        \u001b[32m1.2076\u001b[0m  0.0006  2.5484\n",
            "      2            \u001b[36m0.2900\u001b[0m        \u001b[32m1.1233\u001b[0m  0.0000  2.6082\n",
            "  epoch    train_accuracy    train_loss      lr     dur\n",
            "-------  ----------------  ------------  ------  ------\n",
            "      1            \u001b[36m0.4242\u001b[0m        \u001b[32m1.1577\u001b[0m  0.0006  2.5937\n",
            "      2            \u001b[36m0.4286\u001b[0m        \u001b[32m1.0504\u001b[0m  0.0000  4.0573\n",
            "Validation accuracy:  31.94+- 5.59%\n"
          ]
        }
      ]
    },
    {
      "cell_type": "code",
      "source": [
        "cv_results"
      ],
      "metadata": {
        "colab": {
          "base_uri": "https://localhost:8080/"
        },
        "id": "fflEayrkpd9k",
        "outputId": "3d03c62e-82f0-4af1-a0ef-8bcd27701adb"
      },
      "execution_count": null,
      "outputs": [
        {
          "output_type": "execute_result",
          "data": {
            "text/plain": [
              "array([0.37931034, 0.24137931, 0.36206897, 0.26315789, 0.35087719])"
            ]
          },
          "metadata": {},
          "execution_count": 14
        }
      ]
    },
    {
      "cell_type": "code",
      "source": [
        "import pandas as pd\n",
        "from sklearn.model_selection import GridSearchCV\n",
        "\n",
        "train_val_split = [\n",
        "    tuple(train_test_split(X_train.indices_, test_size = 0.2, shuffle = False))\n",
        "]\n",
        "\n",
        "param_grid = {\n",
        "    \"optimizer__lr\": [0.00625, 0.000625]\n",
        "}\n",
        "\n",
        "\n",
        "\n",
        "search = GridSearchCV(\n",
        "    estimator = clf,\n",
        "    param_grid = param_grid,\n",
        "    cv = train_val_split,\n",
        "    return_train_score = True,\n",
        "    scoring = \"accuracy\",\n",
        "    refit = True,\n",
        "    verbose = 1,\n",
        "    error_score = \"raise\",\n",
        "    n_jobs = 1\n",
        ")\n",
        "\n",
        "\n",
        "search.fit(X_train, y_train)\n",
        "search_results = pd.DataFrame(search.cv_results_)\n",
        "\n",
        "best_run = search_results[search_results[\"rank_test_score\"] == 1].squeeze()\n",
        "best_parameters = best_run[\"params\"]"
      ],
      "metadata": {
        "colab": {
          "base_uri": "https://localhost:8080/"
        },
        "id": "OJreq5IapeS6",
        "outputId": "0a9208d0-c4e4-4dc1-fadd-392281aefea1"
      },
      "execution_count": null,
      "outputs": [
        {
          "output_type": "stream",
          "name": "stdout",
          "text": [
            "Fitting 1 folds for each of 2 candidates, totalling 2 fits\n",
            "  epoch    train_accuracy    train_loss      lr     dur\n",
            "-------  ----------------  ------------  ------  ------\n",
            "      1            \u001b[36m0.2739\u001b[0m        \u001b[32m1.5258\u001b[0m  0.0063  4.1096\n",
            "      2            \u001b[36m0.4000\u001b[0m        \u001b[32m1.4053\u001b[0m  0.0000  2.6216\n",
            "  epoch    train_accuracy    train_loss      lr     dur\n",
            "-------  ----------------  ------------  ------  ------\n",
            "      1            \u001b[36m0.4826\u001b[0m        \u001b[32m1.2205\u001b[0m  0.0006  2.6023\n",
            "      2            \u001b[36m0.5130\u001b[0m        \u001b[32m1.1218\u001b[0m  0.0000  3.0949\n",
            "  epoch    train_accuracy    train_loss      lr     dur\n",
            "-------  ----------------  ------------  ------  ------\n",
            "      1            \u001b[36m0.4375\u001b[0m        \u001b[32m1.2991\u001b[0m  0.0006  3.4515\n",
            "      2            \u001b[36m0.4688\u001b[0m        \u001b[32m1.1161\u001b[0m  0.0000  3.4688\n"
          ]
        }
      ]
    },
    {
      "cell_type": "code",
      "source": [],
      "metadata": {
        "id": "Jf-NSOLXperf"
      },
      "execution_count": null,
      "outputs": []
    },
    {
      "cell_type": "code",
      "source": [],
      "metadata": {
        "id": "xQeFcysEpfA2"
      },
      "execution_count": null,
      "outputs": []
    }
  ]
}