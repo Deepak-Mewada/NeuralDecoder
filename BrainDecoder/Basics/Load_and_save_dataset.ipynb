{
  "nbformat": 4,
  "nbformat_minor": 0,
  "metadata": {
    "colab": {
      "provenance": [],
      "authorship_tag": "ABX9TyMnn80c6Y08DnvPXl/TxjIw",
      "include_colab_link": true
    },
    "kernelspec": {
      "name": "python3",
      "display_name": "Python 3"
    },
    "language_info": {
      "name": "python"
    }
  },
  "cells": [
    {
      "cell_type": "markdown",
      "metadata": {
        "id": "view-in-github",
        "colab_type": "text"
      },
      "source": [
        "<a href=\"https://colab.research.google.com/github/Deepak-Mewada/NeuralDecoder/blob/main/BrainDecoder/Basics/Load_and_save_dataset.ipynb\" target=\"_parent\"><img src=\"https://colab.research.google.com/assets/colab-badge.svg\" alt=\"Open In Colab\"/></a>"
      ]
    },
    {
      "cell_type": "code",
      "execution_count": null,
      "metadata": {
        "colab": {
          "base_uri": "https://localhost:8080/"
        },
        "id": "rv6bpdaj3ppB",
        "outputId": "b229ee66-b2cf-4cb4-dc65-b7b27e9fc14f"
      },
      "outputs": [
        {
          "output_type": "stream",
          "name": "stdout",
          "text": [
            "Requirement already satisfied: braindecode in /usr/local/lib/python3.10/dist-packages (0.8.1)\n",
            "Requirement already satisfied: mne in /usr/local/lib/python3.10/dist-packages (from braindecode) (1.6.0)\n",
            "Requirement already satisfied: numpy in /usr/local/lib/python3.10/dist-packages (from braindecode) (1.23.5)\n",
            "Requirement already satisfied: pandas in /usr/local/lib/python3.10/dist-packages (from braindecode) (1.5.3)\n",
            "Requirement already satisfied: scipy in /usr/local/lib/python3.10/dist-packages (from braindecode) (1.11.4)\n",
            "Requirement already satisfied: matplotlib in /usr/local/lib/python3.10/dist-packages (from braindecode) (3.7.1)\n",
            "Requirement already satisfied: h5py in /usr/local/lib/python3.10/dist-packages (from braindecode) (3.8.0)\n",
            "Requirement already satisfied: skorch in /usr/local/lib/python3.10/dist-packages (from braindecode) (0.15.0)\n",
            "Requirement already satisfied: torch in /usr/local/lib/python3.10/dist-packages (from braindecode) (2.1.0+cu121)\n",
            "Requirement already satisfied: einops in /usr/local/lib/python3.10/dist-packages (from braindecode) (0.7.0)\n",
            "Requirement already satisfied: joblib in /usr/local/lib/python3.10/dist-packages (from braindecode) (1.3.2)\n",
            "Requirement already satisfied: torchinfo in /usr/local/lib/python3.10/dist-packages (from braindecode) (1.8.0)\n",
            "Requirement already satisfied: docstring-inheritance in /usr/local/lib/python3.10/dist-packages (from braindecode) (2.1.2)\n",
            "Requirement already satisfied: contourpy>=1.0.1 in /usr/local/lib/python3.10/dist-packages (from matplotlib->braindecode) (1.2.0)\n",
            "Requirement already satisfied: cycler>=0.10 in /usr/local/lib/python3.10/dist-packages (from matplotlib->braindecode) (0.12.1)\n",
            "Requirement already satisfied: fonttools>=4.22.0 in /usr/local/lib/python3.10/dist-packages (from matplotlib->braindecode) (4.47.0)\n",
            "Requirement already satisfied: kiwisolver>=1.0.1 in /usr/local/lib/python3.10/dist-packages (from matplotlib->braindecode) (1.4.5)\n",
            "Requirement already satisfied: packaging>=20.0 in /usr/local/lib/python3.10/dist-packages (from matplotlib->braindecode) (23.2)\n",
            "Requirement already satisfied: pillow>=6.2.0 in /usr/local/lib/python3.10/dist-packages (from matplotlib->braindecode) (9.4.0)\n",
            "Requirement already satisfied: pyparsing>=2.3.1 in /usr/local/lib/python3.10/dist-packages (from matplotlib->braindecode) (3.1.1)\n",
            "Requirement already satisfied: python-dateutil>=2.7 in /usr/local/lib/python3.10/dist-packages (from matplotlib->braindecode) (2.8.2)\n",
            "Requirement already satisfied: tqdm in /usr/local/lib/python3.10/dist-packages (from mne->braindecode) (4.66.1)\n",
            "Requirement already satisfied: pooch>=1.5 in /usr/local/lib/python3.10/dist-packages (from mne->braindecode) (1.8.0)\n",
            "Requirement already satisfied: decorator in /usr/local/lib/python3.10/dist-packages (from mne->braindecode) (4.4.2)\n",
            "Requirement already satisfied: jinja2 in /usr/local/lib/python3.10/dist-packages (from mne->braindecode) (3.1.2)\n",
            "Requirement already satisfied: lazy-loader>=0.3 in /usr/local/lib/python3.10/dist-packages (from mne->braindecode) (0.3)\n",
            "Requirement already satisfied: defusedxml in /usr/local/lib/python3.10/dist-packages (from mne->braindecode) (0.7.1)\n",
            "Requirement already satisfied: pytz>=2020.1 in /usr/local/lib/python3.10/dist-packages (from pandas->braindecode) (2023.3.post1)\n",
            "Requirement already satisfied: scikit-learn>=0.22.0 in /usr/local/lib/python3.10/dist-packages (from skorch->braindecode) (1.2.2)\n",
            "Requirement already satisfied: tabulate>=0.7.7 in /usr/local/lib/python3.10/dist-packages (from skorch->braindecode) (0.9.0)\n",
            "Requirement already satisfied: filelock in /usr/local/lib/python3.10/dist-packages (from torch->braindecode) (3.13.1)\n",
            "Requirement already satisfied: typing-extensions in /usr/local/lib/python3.10/dist-packages (from torch->braindecode) (4.5.0)\n",
            "Requirement already satisfied: sympy in /usr/local/lib/python3.10/dist-packages (from torch->braindecode) (1.12)\n",
            "Requirement already satisfied: networkx in /usr/local/lib/python3.10/dist-packages (from torch->braindecode) (3.2.1)\n",
            "Requirement already satisfied: fsspec in /usr/local/lib/python3.10/dist-packages (from torch->braindecode) (2023.6.0)\n",
            "Requirement already satisfied: triton==2.1.0 in /usr/local/lib/python3.10/dist-packages (from torch->braindecode) (2.1.0)\n",
            "Requirement already satisfied: platformdirs>=2.5.0 in /usr/local/lib/python3.10/dist-packages (from pooch>=1.5->mne->braindecode) (4.1.0)\n",
            "Requirement already satisfied: requests>=2.19.0 in /usr/local/lib/python3.10/dist-packages (from pooch>=1.5->mne->braindecode) (2.31.0)\n",
            "Requirement already satisfied: six>=1.5 in /usr/local/lib/python3.10/dist-packages (from python-dateutil>=2.7->matplotlib->braindecode) (1.16.0)\n",
            "Requirement already satisfied: threadpoolctl>=2.0.0 in /usr/local/lib/python3.10/dist-packages (from scikit-learn>=0.22.0->skorch->braindecode) (3.2.0)\n",
            "Requirement already satisfied: MarkupSafe>=2.0 in /usr/local/lib/python3.10/dist-packages (from jinja2->mne->braindecode) (2.1.3)\n",
            "Requirement already satisfied: mpmath>=0.19 in /usr/local/lib/python3.10/dist-packages (from sympy->torch->braindecode) (1.3.0)\n",
            "Requirement already satisfied: charset-normalizer<4,>=2 in /usr/local/lib/python3.10/dist-packages (from requests>=2.19.0->pooch>=1.5->mne->braindecode) (3.3.2)\n",
            "Requirement already satisfied: idna<4,>=2.5 in /usr/local/lib/python3.10/dist-packages (from requests>=2.19.0->pooch>=1.5->mne->braindecode) (3.6)\n",
            "Requirement already satisfied: urllib3<3,>=1.21.1 in /usr/local/lib/python3.10/dist-packages (from requests>=2.19.0->pooch>=1.5->mne->braindecode) (1.26.18)\n",
            "Requirement already satisfied: certifi>=2017.4.17 in /usr/local/lib/python3.10/dist-packages (from requests>=2.19.0->pooch>=1.5->mne->braindecode) (2023.11.17)\n",
            "Requirement already satisfied: moabb in /usr/local/lib/python3.10/dist-packages (1.0.0)\n",
            "Requirement already satisfied: PyYAML<7.0,>=6.0 in /usr/local/lib/python3.10/dist-packages (from moabb) (6.0.1)\n",
            "Requirement already satisfied: coverage<8.0.0,>=7.0.1 in /usr/local/lib/python3.10/dist-packages (from moabb) (7.4.0)\n",
            "Requirement already satisfied: edflib-python<2.0.0,>=1.0.6 in /usr/local/lib/python3.10/dist-packages (from moabb) (1.0.8)\n",
            "Requirement already satisfied: h5py<=3.8.0 in /usr/local/lib/python3.10/dist-packages (from moabb) (3.8.0)\n",
            "Requirement already satisfied: matplotlib<4.0.0,>=3.6.2 in /usr/local/lib/python3.10/dist-packages (from moabb) (3.7.1)\n",
            "Requirement already satisfied: memory-profiler<0.62.0,>=0.61.0 in /usr/local/lib/python3.10/dist-packages (from moabb) (0.61.0)\n",
            "Requirement already satisfied: mne<2.0,>=1.4 in /usr/local/lib/python3.10/dist-packages (from moabb) (1.6.0)\n",
            "Requirement already satisfied: mne-bids<0.14,>=0.13 in /usr/local/lib/python3.10/dist-packages (from moabb) (0.13)\n",
            "Requirement already satisfied: numpy<2.0,>=1.22 in /usr/local/lib/python3.10/dist-packages (from moabb) (1.23.5)\n",
            "Requirement already satisfied: pandas<2.0.0,>=1.5.2 in /usr/local/lib/python3.10/dist-packages (from moabb) (1.5.3)\n",
            "Requirement already satisfied: pooch<2.0.0,>=1.6.0 in /usr/local/lib/python3.10/dist-packages (from moabb) (1.8.0)\n",
            "Requirement already satisfied: pyriemann<0.6,>=0.5 in /usr/local/lib/python3.10/dist-packages (from moabb) (0.5)\n",
            "Requirement already satisfied: pytest<8.0.0,>=7.4.0 in /usr/local/lib/python3.10/dist-packages (from moabb) (7.4.4)\n",
            "Requirement already satisfied: requests<3.0.0,>=2.28.1 in /usr/local/lib/python3.10/dist-packages (from moabb) (2.31.0)\n",
            "Requirement already satisfied: scikit-learn<2.0.0,>=1.2.0 in /usr/local/lib/python3.10/dist-packages (from moabb) (1.2.2)\n",
            "Requirement already satisfied: scipy<2.0.0,>=1.9.3 in /usr/local/lib/python3.10/dist-packages (from moabb) (1.11.4)\n",
            "Requirement already satisfied: seaborn<0.13.0,>=0.12.1 in /usr/local/lib/python3.10/dist-packages (from moabb) (0.12.2)\n",
            "Requirement already satisfied: tqdm<5.0.0,>=4.64.1 in /usr/local/lib/python3.10/dist-packages (from moabb) (4.66.1)\n",
            "Requirement already satisfied: urllib3<2.0.0,>=1.26.15 in /usr/local/lib/python3.10/dist-packages (from moabb) (1.26.18)\n",
            "Requirement already satisfied: contourpy>=1.0.1 in /usr/local/lib/python3.10/dist-packages (from matplotlib<4.0.0,>=3.6.2->moabb) (1.2.0)\n",
            "Requirement already satisfied: cycler>=0.10 in /usr/local/lib/python3.10/dist-packages (from matplotlib<4.0.0,>=3.6.2->moabb) (0.12.1)\n",
            "Requirement already satisfied: fonttools>=4.22.0 in /usr/local/lib/python3.10/dist-packages (from matplotlib<4.0.0,>=3.6.2->moabb) (4.47.0)\n",
            "Requirement already satisfied: kiwisolver>=1.0.1 in /usr/local/lib/python3.10/dist-packages (from matplotlib<4.0.0,>=3.6.2->moabb) (1.4.5)\n",
            "Requirement already satisfied: packaging>=20.0 in /usr/local/lib/python3.10/dist-packages (from matplotlib<4.0.0,>=3.6.2->moabb) (23.2)\n",
            "Requirement already satisfied: pillow>=6.2.0 in /usr/local/lib/python3.10/dist-packages (from matplotlib<4.0.0,>=3.6.2->moabb) (9.4.0)\n",
            "Requirement already satisfied: pyparsing>=2.3.1 in /usr/local/lib/python3.10/dist-packages (from matplotlib<4.0.0,>=3.6.2->moabb) (3.1.1)\n",
            "Requirement already satisfied: python-dateutil>=2.7 in /usr/local/lib/python3.10/dist-packages (from matplotlib<4.0.0,>=3.6.2->moabb) (2.8.2)\n",
            "Requirement already satisfied: psutil in /usr/local/lib/python3.10/dist-packages (from memory-profiler<0.62.0,>=0.61.0->moabb) (5.9.5)\n",
            "Requirement already satisfied: decorator in /usr/local/lib/python3.10/dist-packages (from mne<2.0,>=1.4->moabb) (4.4.2)\n",
            "Requirement already satisfied: jinja2 in /usr/local/lib/python3.10/dist-packages (from mne<2.0,>=1.4->moabb) (3.1.2)\n",
            "Requirement already satisfied: lazy-loader>=0.3 in /usr/local/lib/python3.10/dist-packages (from mne<2.0,>=1.4->moabb) (0.3)\n",
            "Requirement already satisfied: defusedxml in /usr/local/lib/python3.10/dist-packages (from mne<2.0,>=1.4->moabb) (0.7.1)\n",
            "Requirement already satisfied: pytz>=2020.1 in /usr/local/lib/python3.10/dist-packages (from pandas<2.0.0,>=1.5.2->moabb) (2023.3.post1)\n",
            "Requirement already satisfied: platformdirs>=2.5.0 in /usr/local/lib/python3.10/dist-packages (from pooch<2.0.0,>=1.6.0->moabb) (4.1.0)\n",
            "Requirement already satisfied: joblib in /usr/local/lib/python3.10/dist-packages (from pyriemann<0.6,>=0.5->moabb) (1.3.2)\n",
            "Requirement already satisfied: iniconfig in /usr/local/lib/python3.10/dist-packages (from pytest<8.0.0,>=7.4.0->moabb) (2.0.0)\n",
            "Requirement already satisfied: pluggy<2.0,>=0.12 in /usr/local/lib/python3.10/dist-packages (from pytest<8.0.0,>=7.4.0->moabb) (1.3.0)\n",
            "Requirement already satisfied: exceptiongroup>=1.0.0rc8 in /usr/local/lib/python3.10/dist-packages (from pytest<8.0.0,>=7.4.0->moabb) (1.2.0)\n",
            "Requirement already satisfied: tomli>=1.0.0 in /usr/local/lib/python3.10/dist-packages (from pytest<8.0.0,>=7.4.0->moabb) (2.0.1)\n",
            "Requirement already satisfied: charset-normalizer<4,>=2 in /usr/local/lib/python3.10/dist-packages (from requests<3.0.0,>=2.28.1->moabb) (3.3.2)\n",
            "Requirement already satisfied: idna<4,>=2.5 in /usr/local/lib/python3.10/dist-packages (from requests<3.0.0,>=2.28.1->moabb) (3.6)\n",
            "Requirement already satisfied: certifi>=2017.4.17 in /usr/local/lib/python3.10/dist-packages (from requests<3.0.0,>=2.28.1->moabb) (2023.11.17)\n",
            "Requirement already satisfied: threadpoolctl>=2.0.0 in /usr/local/lib/python3.10/dist-packages (from scikit-learn<2.0.0,>=1.2.0->moabb) (3.2.0)\n",
            "Requirement already satisfied: six>=1.5 in /usr/local/lib/python3.10/dist-packages (from python-dateutil>=2.7->matplotlib<4.0.0,>=3.6.2->moabb) (1.16.0)\n",
            "Requirement already satisfied: MarkupSafe>=2.0 in /usr/local/lib/python3.10/dist-packages (from jinja2->mne<2.0,>=1.4->moabb) (2.1.3)\n"
          ]
        }
      ],
      "source": [
        "!pip install braindecode\n",
        "!pip install moabb"
      ]
    },
    {
      "cell_type": "code",
      "source": [
        "import tempfile\n",
        "from braindecode.datasets import MOABBDataset\n",
        "from braindecode.preprocessing import preprocess, Preprocessor\n",
        "from braindecode.datautil import load_concat_dataset\n",
        "from braindecode.preprocessing import create_windows_from_events"
      ],
      "metadata": {
        "id": "m5SwYxvX33EL"
      },
      "execution_count": null,
      "outputs": []
    },
    {
      "cell_type": "code",
      "source": [
        "dataset = MOABBDataset(\n",
        "    dataset_name='BNCI2014001',\n",
        "    subject_ids=[1],\n",
        ")"
      ],
      "metadata": {
        "colab": {
          "base_uri": "https://localhost:8080/"
        },
        "id": "wB8tr5NW33eM",
        "outputId": "1f0d9a3e-1310-4475-934d-d6d3fe7f1167"
      },
      "execution_count": null,
      "outputs": [
        {
          "output_type": "stream",
          "name": "stderr",
          "text": [
            "WARNING:moabb.utils:BNCI2014001 has been renamed to BNCI2014_001. BNCI2014001 will be removed in version 1.1.\n",
            "WARNING:moabb.datasets.base:The dataset class name 'BNCI2014001' must be an abbreviation of its code 'BNCI2014-001'. See moabb.datasets.base.is_abbrev for more information.\n"
          ]
        }
      ]
    },
    {
      "cell_type": "code",
      "source": [
        "preprocess(\n",
        "    concat_ds=dataset,\n",
        "    preprocessors=[Preprocessor(fn='resample', sfreq=10)]\n",
        ")"
      ],
      "metadata": {
        "colab": {
          "base_uri": "https://localhost:8080/"
        },
        "id": "z-t9XHZJ331J",
        "outputId": "f5607f1b-16dc-477d-902a-52fe15845932"
      },
      "execution_count": null,
      "outputs": [
        {
          "output_type": "stream",
          "name": "stdout",
          "text": [
            "48 events found on stim channel stim\n",
            "Event IDs: [1 2 3 4]\n",
            "48 events found on stim channel stim\n",
            "Event IDs: [1 2 3 4]\n",
            "48 events found on stim channel stim\n",
            "Event IDs: [1 2 3 4]\n",
            "48 events found on stim channel stim\n",
            "Event IDs: [1 2 3 4]\n",
            "48 events found on stim channel stim\n",
            "Event IDs: [1 2 3 4]\n",
            "48 events found on stim channel stim\n",
            "Event IDs: [1 2 3 4]\n",
            "48 events found on stim channel stim\n",
            "Event IDs: [1 2 3 4]\n",
            "48 events found on stim channel stim\n",
            "Event IDs: [1 2 3 4]\n",
            "48 events found on stim channel stim\n",
            "Event IDs: [1 2 3 4]\n",
            "48 events found on stim channel stim\n",
            "Event IDs: [1 2 3 4]\n",
            "48 events found on stim channel stim\n",
            "Event IDs: [1 2 3 4]\n",
            "48 events found on stim channel stim\n",
            "Event IDs: [1 2 3 4]\n",
            "48 events found on stim channel stim\n",
            "Event IDs: [1 2 3 4]\n",
            "48 events found on stim channel stim\n",
            "Event IDs: [1 2 3 4]\n",
            "48 events found on stim channel stim\n",
            "Event IDs: [1 2 3 4]\n",
            "48 events found on stim channel stim\n",
            "Event IDs: [1 2 3 4]\n",
            "48 events found on stim channel stim\n",
            "Event IDs: [1 2 3 4]\n",
            "48 events found on stim channel stim\n",
            "Event IDs: [1 2 3 4]\n",
            "48 events found on stim channel stim\n",
            "Event IDs: [1 2 3 4]\n",
            "48 events found on stim channel stim\n",
            "Event IDs: [1 2 3 4]\n",
            "48 events found on stim channel stim\n",
            "Event IDs: [1 2 3 4]\n",
            "48 events found on stim channel stim\n",
            "Event IDs: [1 2 3 4]\n",
            "48 events found on stim channel stim\n",
            "Event IDs: [1 2 3 4]\n"
          ]
        }
      ]
    },
    {
      "cell_type": "code",
      "source": [
        "tmpdir = tempfile.mkdtemp()\n",
        "dataset.save(\n",
        "    path=tmpdir,\n",
        "    overwrite=False,\n",
        ")"
      ],
      "metadata": {
        "id": "rnDXJ3z334MI"
      },
      "execution_count": null,
      "outputs": []
    },
    {
      "cell_type": "code",
      "source": [
        "dataset_loaded = load_concat_dataset(\n",
        "    path=tmpdir,\n",
        "    preload=True,\n",
        "    ids_to_load=[1, 3],\n",
        "    target_name=None,\n",
        ")"
      ],
      "metadata": {
        "id": "BTiy6gKs34fw"
      },
      "execution_count": null,
      "outputs": []
    },
    {
      "cell_type": "code",
      "source": [
        "windows_dataset = create_windows_from_events(\n",
        "    concat_ds=dataset_loaded,\n",
        "    trial_start_offset_samples=0,\n",
        "    trial_stop_offset_samples=0,\n",
        ")\n",
        "\n",
        "windows_dataset.description"
      ],
      "metadata": {
        "id": "6rHaGOB1343U"
      },
      "execution_count": null,
      "outputs": []
    },
    {
      "cell_type": "code",
      "source": [
        "windows_dataset.save(\n",
        "    path=tmpdir,\n",
        "    overwrite=True,\n",
        ")"
      ],
      "metadata": {
        "id": "ptfqtCqF35IL"
      },
      "execution_count": null,
      "outputs": []
    },
    {
      "cell_type": "code",
      "source": [
        "windows_dataset_loaded = load_concat_dataset(\n",
        "    path=tmpdir,\n",
        "    preload=False,\n",
        "    ids_to_load=[0],\n",
        "    target_name=None,\n",
        ")\n",
        "\n",
        "windows_dataset_loaded.description"
      ],
      "metadata": {
        "id": "ifN4iO9d35Z_"
      },
      "execution_count": null,
      "outputs": []
    }
  ]
}