{
  "cells": [
    {
      "cell_type": "markdown",
      "metadata": {
        "id": "view-in-github",
        "colab_type": "text"
      },
      "source": [
        "<a href=\"https://colab.research.google.com/github/Deepak-Mewada/NeuralDecoder/blob/main/BrainDecoder/Basics/plot_tuh_eeg_corpus.ipynb\" target=\"_parent\"><img src=\"https://colab.research.google.com/assets/colab-badge.svg\" alt=\"Open In Colab\"/></a>"
      ]
    },
    {
      "cell_type": "markdown",
      "metadata": {
        "id": "yZQ8ukpMhPJH"
      },
      "source": [
        "\n",
        "# Process a big data EEG resource (TUH EEG Corpus)\n",
        "\n",
        "In this example, we showcase usage of the Temple University Hospital EEG Corpus\n",
        "(https://www.isip.piconepress.com/projects/tuh_eeg/html/downloads.shtml#c_tueg)\n",
        "including simple preprocessing steps as well as cutting of compute windows.\n",
        "   :depth: 2\n"
      ]
    },
    {
      "cell_type": "code",
      "source": [
        "!pip install braindecode"
      ],
      "metadata": {
        "colab": {
          "base_uri": "https://localhost:8080/"
        },
        "id": "iu3ce2vXhUZo",
        "outputId": "55a207e6-7d32-46ad-ba72-60b5a877616f"
      },
      "execution_count": 2,
      "outputs": [
        {
          "output_type": "stream",
          "name": "stdout",
          "text": [
            "Collecting braindecode\n",
            "  Downloading braindecode-0.8.1-py3-none-any.whl (165 kB)\n",
            "\u001b[2K     \u001b[90m━━━━━━━━━━━━━━━━━━━━━━━━━━━━━━━━━━━━━━━━\u001b[0m \u001b[32m165.2/165.2 kB\u001b[0m \u001b[31m1.5 MB/s\u001b[0m eta \u001b[36m0:00:00\u001b[0m\n",
            "\u001b[?25hCollecting mne (from braindecode)\n",
            "  Downloading mne-1.6.0-py3-none-any.whl (8.3 MB)\n",
            "\u001b[2K     \u001b[90m━━━━━━━━━━━━━━━━━━━━━━━━━━━━━━━━━━━━━━━━\u001b[0m \u001b[32m8.3/8.3 MB\u001b[0m \u001b[31m19.0 MB/s\u001b[0m eta \u001b[36m0:00:00\u001b[0m\n",
            "\u001b[?25hRequirement already satisfied: numpy in /usr/local/lib/python3.10/dist-packages (from braindecode) (1.23.5)\n",
            "Requirement already satisfied: pandas in /usr/local/lib/python3.10/dist-packages (from braindecode) (1.5.3)\n",
            "Requirement already satisfied: scipy in /usr/local/lib/python3.10/dist-packages (from braindecode) (1.11.4)\n",
            "Requirement already satisfied: matplotlib in /usr/local/lib/python3.10/dist-packages (from braindecode) (3.7.1)\n",
            "Requirement already satisfied: h5py in /usr/local/lib/python3.10/dist-packages (from braindecode) (3.9.0)\n",
            "Collecting skorch (from braindecode)\n",
            "  Downloading skorch-0.15.0-py3-none-any.whl (239 kB)\n",
            "\u001b[2K     \u001b[90m━━━━━━━━━━━━━━━━━━━━━━━━━━━━━━━━━━━━━━━━\u001b[0m \u001b[32m239.3/239.3 kB\u001b[0m \u001b[31m20.1 MB/s\u001b[0m eta \u001b[36m0:00:00\u001b[0m\n",
            "\u001b[?25hRequirement already satisfied: torch in /usr/local/lib/python3.10/dist-packages (from braindecode) (2.1.0+cu121)\n",
            "Collecting einops (from braindecode)\n",
            "  Downloading einops-0.7.0-py3-none-any.whl (44 kB)\n",
            "\u001b[2K     \u001b[90m━━━━━━━━━━━━━━━━━━━━━━━━━━━━━━━━━━━━━━━━\u001b[0m \u001b[32m44.6/44.6 kB\u001b[0m \u001b[31m4.0 MB/s\u001b[0m eta \u001b[36m0:00:00\u001b[0m\n",
            "\u001b[?25hRequirement already satisfied: joblib in /usr/local/lib/python3.10/dist-packages (from braindecode) (1.3.2)\n",
            "Collecting torchinfo (from braindecode)\n",
            "  Downloading torchinfo-1.8.0-py3-none-any.whl (23 kB)\n",
            "Collecting docstring-inheritance (from braindecode)\n",
            "  Downloading docstring_inheritance-2.1.2-py3-none-any.whl (21 kB)\n",
            "Requirement already satisfied: contourpy>=1.0.1 in /usr/local/lib/python3.10/dist-packages (from matplotlib->braindecode) (1.2.0)\n",
            "Requirement already satisfied: cycler>=0.10 in /usr/local/lib/python3.10/dist-packages (from matplotlib->braindecode) (0.12.1)\n",
            "Requirement already satisfied: fonttools>=4.22.0 in /usr/local/lib/python3.10/dist-packages (from matplotlib->braindecode) (4.47.0)\n",
            "Requirement already satisfied: kiwisolver>=1.0.1 in /usr/local/lib/python3.10/dist-packages (from matplotlib->braindecode) (1.4.5)\n",
            "Requirement already satisfied: packaging>=20.0 in /usr/local/lib/python3.10/dist-packages (from matplotlib->braindecode) (23.2)\n",
            "Requirement already satisfied: pillow>=6.2.0 in /usr/local/lib/python3.10/dist-packages (from matplotlib->braindecode) (9.4.0)\n",
            "Requirement already satisfied: pyparsing>=2.3.1 in /usr/local/lib/python3.10/dist-packages (from matplotlib->braindecode) (3.1.1)\n",
            "Requirement already satisfied: python-dateutil>=2.7 in /usr/local/lib/python3.10/dist-packages (from matplotlib->braindecode) (2.8.2)\n",
            "Requirement already satisfied: tqdm in /usr/local/lib/python3.10/dist-packages (from mne->braindecode) (4.66.1)\n",
            "Requirement already satisfied: pooch>=1.5 in /usr/local/lib/python3.10/dist-packages (from mne->braindecode) (1.8.0)\n",
            "Requirement already satisfied: decorator in /usr/local/lib/python3.10/dist-packages (from mne->braindecode) (4.4.2)\n",
            "Requirement already satisfied: jinja2 in /usr/local/lib/python3.10/dist-packages (from mne->braindecode) (3.1.2)\n",
            "Requirement already satisfied: lazy-loader>=0.3 in /usr/local/lib/python3.10/dist-packages (from mne->braindecode) (0.3)\n",
            "Requirement already satisfied: defusedxml in /usr/local/lib/python3.10/dist-packages (from mne->braindecode) (0.7.1)\n",
            "Requirement already satisfied: pytz>=2020.1 in /usr/local/lib/python3.10/dist-packages (from pandas->braindecode) (2023.3.post1)\n",
            "Requirement already satisfied: scikit-learn>=0.22.0 in /usr/local/lib/python3.10/dist-packages (from skorch->braindecode) (1.2.2)\n",
            "Requirement already satisfied: tabulate>=0.7.7 in /usr/local/lib/python3.10/dist-packages (from skorch->braindecode) (0.9.0)\n",
            "Requirement already satisfied: filelock in /usr/local/lib/python3.10/dist-packages (from torch->braindecode) (3.13.1)\n",
            "Requirement already satisfied: typing-extensions in /usr/local/lib/python3.10/dist-packages (from torch->braindecode) (4.5.0)\n",
            "Requirement already satisfied: sympy in /usr/local/lib/python3.10/dist-packages (from torch->braindecode) (1.12)\n",
            "Requirement already satisfied: networkx in /usr/local/lib/python3.10/dist-packages (from torch->braindecode) (3.2.1)\n",
            "Requirement already satisfied: fsspec in /usr/local/lib/python3.10/dist-packages (from torch->braindecode) (2023.6.0)\n",
            "Requirement already satisfied: triton==2.1.0 in /usr/local/lib/python3.10/dist-packages (from torch->braindecode) (2.1.0)\n",
            "Requirement already satisfied: platformdirs>=2.5.0 in /usr/local/lib/python3.10/dist-packages (from pooch>=1.5->mne->braindecode) (4.1.0)\n",
            "Requirement already satisfied: requests>=2.19.0 in /usr/local/lib/python3.10/dist-packages (from pooch>=1.5->mne->braindecode) (2.31.0)\n",
            "Requirement already satisfied: six>=1.5 in /usr/local/lib/python3.10/dist-packages (from python-dateutil>=2.7->matplotlib->braindecode) (1.16.0)\n",
            "Requirement already satisfied: threadpoolctl>=2.0.0 in /usr/local/lib/python3.10/dist-packages (from scikit-learn>=0.22.0->skorch->braindecode) (3.2.0)\n",
            "Requirement already satisfied: MarkupSafe>=2.0 in /usr/local/lib/python3.10/dist-packages (from jinja2->mne->braindecode) (2.1.3)\n",
            "Requirement already satisfied: mpmath>=0.19 in /usr/local/lib/python3.10/dist-packages (from sympy->torch->braindecode) (1.3.0)\n",
            "Requirement already satisfied: charset-normalizer<4,>=2 in /usr/local/lib/python3.10/dist-packages (from requests>=2.19.0->pooch>=1.5->mne->braindecode) (3.3.2)\n",
            "Requirement already satisfied: idna<4,>=2.5 in /usr/local/lib/python3.10/dist-packages (from requests>=2.19.0->pooch>=1.5->mne->braindecode) (3.6)\n",
            "Requirement already satisfied: urllib3<3,>=1.21.1 in /usr/local/lib/python3.10/dist-packages (from requests>=2.19.0->pooch>=1.5->mne->braindecode) (2.0.7)\n",
            "Requirement already satisfied: certifi>=2017.4.17 in /usr/local/lib/python3.10/dist-packages (from requests>=2.19.0->pooch>=1.5->mne->braindecode) (2023.11.17)\n",
            "Installing collected packages: torchinfo, einops, docstring-inheritance, skorch, mne, braindecode\n",
            "Successfully installed braindecode-0.8.1 docstring-inheritance-2.1.2 einops-0.7.0 mne-1.6.0 skorch-0.15.0 torchinfo-1.8.0\n"
          ]
        }
      ]
    },
    {
      "cell_type": "code",
      "execution_count": 3,
      "metadata": {
        "id": "7t4x_dSqhPJM"
      },
      "outputs": [],
      "source": [
        "import tempfile\n",
        "\n",
        "import numpy as np\n",
        "import matplotlib.pyplot as plt\n",
        "import mne\n",
        "\n",
        "from braindecode.datasets import TUH\n",
        "from braindecode.preprocessing import (\n",
        "    preprocess, Preprocessor, create_fixed_length_windows)\n",
        "from numpy import multiply\n",
        "\n",
        "mne.set_log_level('ERROR')  # avoid messages every time a window is extracted"
      ]
    },
    {
      "cell_type": "markdown",
      "metadata": {
        "id": "-Oidc3FKhPJN"
      },
      "source": [
        "## Creating the dataset using TUHMock\n",
        "\n",
        "Since the data is not available at the time of the creation of this example,\n",
        "we are required to mock some of the dataset functionality. Therefore, if you\n",
        "want to try this code with the actual data, please disconsider this section.\n",
        "\n"
      ]
    },
    {
      "cell_type": "code",
      "execution_count": 4,
      "metadata": {
        "id": "RNys8YfNhPJO"
      },
      "outputs": [],
      "source": [
        "from braindecode.datasets.tuh import _TUHMock as TUH  # noqa F811"
      ]
    },
    {
      "cell_type": "markdown",
      "metadata": {
        "id": "A_DlpKZEhPJO"
      },
      "source": [
        "Firstly, we start by creating a TUH mock dataset using braindecode's _TUHMock class.\n",
        "The complete code can be found at :func:`braindecode.datasets.TUH`, but we will give\n",
        "a small description of how it works.\n",
        "This class is able to read the recordings from TUH_PATH and generate a description\n",
        "by parsing information from file paths, such as patient id and recording data.\n",
        "THis description can later be accessed by the object's .description method.\n",
        "After that, the files are sorted chronologically by year, month, day,\n",
        "patient id, recording session and segment, and then use the description corresponding\n",
        "to the specified by recording ids.\n",
        "FInally, additional information regarding age and gender of the subjects are parsed\n",
        "directly to the description.\n",
        "\n"
      ]
    },
    {
      "cell_type": "code",
      "execution_count": 5,
      "metadata": {
        "id": "tJ0C6LODhPJP"
      },
      "outputs": [],
      "source": [
        "TUH_PATH = 'please insert actual path to data here'\n",
        "# specify the number of jobs for loading and windowing\n",
        "N_JOBS = 2\n",
        "tuh = TUH(\n",
        "    path=TUH_PATH,\n",
        "    recording_ids=None,\n",
        "    target_name=None,\n",
        "    preload=False,\n",
        "    add_physician_reports=False,\n",
        "    n_jobs=1 if TUH.__name__ == '_TUHMock' else N_JOBS\n",
        ")"
      ]
    },
    {
      "cell_type": "markdown",
      "metadata": {
        "id": "chQ_c-RshPJP"
      },
      "source": [
        "We can visualize our data's statistics using the class' \"description\" method\n",
        "\n"
      ]
    },
    {
      "cell_type": "code",
      "execution_count": 12,
      "metadata": {
        "colab": {
          "base_uri": "https://localhost:8080/",
          "height": 973
        },
        "id": "XWkPH0yLhPJQ",
        "outputId": "56b0d9fa-ab48-4941-ceda-51f23b836dc1"
      },
      "outputs": [
        {
          "output_type": "display_data",
          "data": {
            "text/plain": [
              "<Figure size 1000x1000 with 2 Axes>"
            ],
            "image/png": "[encoded data removed]"
          },
          "metadata": {}
        }
      ],
      "source": [
        "def plt_histogram(df_of_ages_genders, alpha=0.5, fs=24, ylim=1.5, show_title=True):\n",
        "    # Dafarame containing info about gender and age of subjects\n",
        "    df = df_of_ages_genders\n",
        "    male_df = df[df[\"gender\"] == 'M']\n",
        "    female_df = df[df[\"gender\"] == 'F']\n",
        "\n",
        "    plt.figure(figsize=(10, 10))\n",
        "    if show_title:\n",
        "        plt.suptitle(\"Age information\", y=0.95, fontsize=fs + 5)\n",
        "\n",
        "    # First plot: Male individuals\n",
        "    plt.subplot(121)\n",
        "    plt.hist(male_df[\"age\"], bins=np.linspace(0, 100, 101),\n",
        "             alpha=alpha, color=\"green\", orientation=\"horizontal\")\n",
        "    plt.axhline(np.mean(male_df[\"age\"]), color=\"black\",\n",
        "                label=f\"mean age {np.mean(male_df['age']):.1f} \"\n",
        "                      f\"(±{np.std(male_df['age']):.1f})\")\n",
        "    plt.barh(np.mean(male_df[\"age\"]), height=2 * np.std(male_df[\"age\"]),\n",
        "             width=ylim, color=\"black\", alpha=0.25)\n",
        "\n",
        "    # Legend\n",
        "    plt.xlim(0, ylim)\n",
        "    plt.legend(fontsize=fs, loc=\"upper left\")\n",
        "    plt.title(f\"male ({100 * len(male_df) / len(df):.1f}%)\",\n",
        "              fontsize=fs, loc=\"left\", y=1, x=0.05)\n",
        "    plt.yticks(color='w')\n",
        "    plt.gca().invert_xaxis()\n",
        "    plt.yticks(np.linspace(0, 100, 11), fontsize=fs - 5)\n",
        "    plt.tick_params(labelsize=fs - 5)\n",
        "\n",
        "    # First plot: Female individuals\n",
        "    plt.subplot(122)\n",
        "    plt.hist(female_df[\"age\"], bins=np.linspace(0, 100, 101),\n",
        "             alpha=alpha, color=\"orange\", orientation=\"horizontal\")\n",
        "    plt.axhline(np.mean(female_df[\"age\"]), color=\"black\", linestyle=\"--\",\n",
        "                label=f\"mean age {np.mean(female_df['age']):.1f} (\"\n",
        "                      f\"±{np.std(female_df['age']):.1f})\")\n",
        "    plt.barh(np.mean(female_df[\"age\"]), height=2 * np.std(female_df[\"age\"]),\n",
        "             width=ylim, color=\"black\", alpha=0.25)\n",
        "\n",
        "    # Label\n",
        "    plt.legend(fontsize=fs, loc=\"upper right\")\n",
        "    plt.xlim(0, ylim)\n",
        "    plt.title(f\"female ({100 * len(female_df) / len(df):.1f}%)\",\n",
        "              fontsize=fs, loc=\"right\", y=1, x=0.95)\n",
        "    plt.ylim(0, 100)\n",
        "    plt.subplots_adjust(wspace=0, hspace=0)\n",
        "    plt.ylabel(\"age [years]\", fontsize=fs)\n",
        "    plt.xlabel(\"count\", fontsize=fs, x=1, labelpad=20)\n",
        "    plt.yticks(np.linspace(0, 100, 11), fontsize=fs - 5)\n",
        "    plt.tick_params(labelsize=fs - 5)\n",
        "\n",
        "    plt.show()\n",
        "\n",
        "\n",
        "df = tuh.description\n",
        "plt_histogram(df)"
      ]
    },
    {
      "cell_type": "markdown",
      "metadata": {
        "id": "S3HDJniohPJR"
      },
      "source": [
        "## Preprocessing\n",
        "\n",
        "### Selecting recordings\n",
        "\n",
        "First, we will do some selection of available recordings based on the duration.\n",
        "We will select those recordings that have at least five minutes duration.\n",
        "\n",
        "\n"
      ]
    },
    {
      "cell_type": "code",
      "execution_count": 7,
      "metadata": {
        "id": "ryiKK0DphPJR"
      },
      "outputs": [],
      "source": [
        "def select_by_duration(ds, tmin=0, tmax=None):\n",
        "    if tmax is None:\n",
        "        tmax = np.inf\n",
        "    # determine length of the recordings and select based on tmin and tmax\n",
        "    split_ids = []\n",
        "    for d_i, d in enumerate(ds.datasets):\n",
        "        duration = d.raw.n_times / d.raw.info['sfreq']\n",
        "        # select the ones in the required duration range\n",
        "        if tmin <= duration <= tmax:\n",
        "            split_ids.append(d_i)\n",
        "    splits = ds.split(split_ids)\n",
        "    split = splits['0']\n",
        "    return split\n",
        "\n",
        "\n",
        "tmin = 5 * 60\n",
        "tmax = None\n",
        "tuh = select_by_duration(tuh, tmin, tmax)"
      ]
    },
    {
      "cell_type": "markdown",
      "metadata": {
        "id": "N1biabI_hPJS"
      },
      "source": [
        "Next, we will discard all recordings that have an incomplete channel\n",
        "configuration on the channels that we are interested. The subdivisions of the\n",
        "recordings into 'le' and 'ar' labels represents the channels for\n",
        "the re-referencing of the signals.\n",
        "\n"
      ]
    },
    {
      "cell_type": "code",
      "execution_count": 8,
      "metadata": {
        "id": "h31nFxBNhPJS"
      },
      "outputs": [],
      "source": [
        "short_ch_names = sorted([\n",
        "    'A1', 'A2',\n",
        "    'FP1', 'FP2', 'F3', 'F4', 'C3', 'C4', 'P3', 'P4', 'O1', 'O2',\n",
        "    'F7', 'F8', 'T3', 'T4', 'T5', 'T6', 'FZ', 'CZ', 'PZ'])\n",
        "\n",
        "# TUH data is subdivided into 'le' and 'ar' recordings references\n",
        "ar_ch_names = sorted([\n",
        "    'EEG A1-REF', 'EEG A2-REF',\n",
        "    'EEG FP1-REF', 'EEG FP2-REF', 'EEG F3-REF', 'EEG F4-REF', 'EEG C3-REF',\n",
        "    'EEG C4-REF', 'EEG P3-REF', 'EEG P4-REF', 'EEG O1-REF', 'EEG O2-REF',\n",
        "    'EEG F7-REF', 'EEG F8-REF', 'EEG T3-REF', 'EEG T4-REF', 'EEG T5-REF',\n",
        "    'EEG T6-REF', 'EEG FZ-REF', 'EEG CZ-REF', 'EEG PZ-REF'])\n",
        "le_ch_names = sorted([\n",
        "    'EEG A1-LE', 'EEG A2-LE',\n",
        "    'EEG FP1-LE', 'EEG FP2-LE', 'EEG F3-LE', 'EEG F4-LE', 'EEG C3-LE',\n",
        "    'EEG C4-LE', 'EEG P3-LE', 'EEG P4-LE', 'EEG O1-LE', 'EEG O2-LE',\n",
        "    'EEG F7-LE', 'EEG F8-LE', 'EEG T3-LE', 'EEG T4-LE', 'EEG T5-LE',\n",
        "    'EEG T6-LE', 'EEG FZ-LE', 'EEG CZ-LE', 'EEG PZ-LE'])\n",
        "assert len(short_ch_names) == len(ar_ch_names) == len(le_ch_names)\n",
        "ar_ch_mapping = {ch_name: short_ch_name for ch_name, short_ch_name in zip(\n",
        "    ar_ch_names, short_ch_names)}\n",
        "le_ch_mapping = {ch_name: short_ch_name for ch_name, short_ch_name in zip(\n",
        "    le_ch_names, short_ch_names)}\n",
        "ch_mapping = {'ar': ar_ch_mapping, 'le': le_ch_mapping}\n",
        "\n",
        "\n",
        "def select_by_channels(ds, ch_mapping):\n",
        "    split_ids = []\n",
        "    for i, d in enumerate(ds.datasets):\n",
        "        ref = 'ar' if d.raw.ch_names[0].endswith('-REF') else 'le'\n",
        "        # these are the channels we are looking for\n",
        "        seta = set(ch_mapping[ref].keys())\n",
        "        # these are the channels of the recoding\n",
        "        setb = set(d.raw.ch_names)\n",
        "        # if recording contains all channels we are looking for, include it\n",
        "        if seta.issubset(setb):\n",
        "            split_ids.append(i)\n",
        "    return ds.split(split_ids)['0']\n",
        "\n",
        "\n",
        "tuh = select_by_channels(tuh, ch_mapping)"
      ]
    },
    {
      "cell_type": "markdown",
      "metadata": {
        "id": "yyTzTpafhPJT"
      },
      "source": [
        "### Combining preprocessing steps\n",
        "\n",
        "Next, we use braindecode's preprocess to combine and execute several preprocessing\n",
        "steps that are executed through 'mne':\n",
        "\n",
        "- Crop the recordings to a region of interest\n",
        "- Re-reference all recordings to 'ar' (requires load)\n",
        "- Rename channels to short channel names\n",
        "- Pick channels of interest\n",
        "- Scale signals to micro volts (requires load)\n",
        "- Clip outlier values to +/- 800 micro volts (requires load)\n",
        "- Resample recordings to a common frequency (requires load)\n",
        "\n"
      ]
    },
    {
      "cell_type": "code",
      "execution_count": 9,
      "metadata": {
        "colab": {
          "base_uri": "https://localhost:8080/"
        },
        "id": "dFDE9DTjhPJT",
        "outputId": "2534ad60-aab2-431e-90de-4ddc59d715dd"
      },
      "outputs": [
        {
          "output_type": "stream",
          "name": "stderr",
          "text": [
            "/usr/local/lib/python3.10/dist-packages/braindecode/preprocessing/preprocess.py:55: UserWarning: Preprocessing choices with lambda functions cannot be saved.\n",
            "  warn('Preprocessing choices with lambda functions cannot be saved.')\n"
          ]
        }
      ],
      "source": [
        "def custom_rename_channels(raw, mapping):\n",
        "    # rename channels which are dependent on referencing:\n",
        "    # le: EEG 01-LE, ar: EEG 01-REF\n",
        "    # mne fails if the mapping contains channels as keys that are not present\n",
        "    # in the raw\n",
        "    reference = raw.ch_names[0].split('-')[-1].lower()\n",
        "    assert reference in ['le', 'ref'], 'unexpected referencing'\n",
        "    reference = 'le' if reference == 'le' else 'ar'\n",
        "    raw.rename_channels(mapping[reference])\n",
        "\n",
        "\n",
        "def custom_crop(raw, tmin=0.0, tmax=None, include_tmax=True):\n",
        "    # crop recordings to tmin – tmax. can be incomplete if recording\n",
        "    # has lower duration than tmax\n",
        "    # by default mne fails if tmax is bigger than duration\n",
        "    tmax = min((raw.n_times - 1) / raw.info['sfreq'], tmax)\n",
        "    raw.crop(tmin=tmin, tmax=tmax, include_tmax=include_tmax)\n",
        "\n",
        "\n",
        "tmin = 1 * 60\n",
        "tmax = 6 * 60\n",
        "sfreq = 100\n",
        "factor = 1e6\n",
        "\n",
        "preprocessors = [\n",
        "    Preprocessor(custom_crop, tmin=tmin, tmax=tmax, include_tmax=False,\n",
        "                 apply_on_array=False),\n",
        "    Preprocessor('set_eeg_reference', ref_channels='average', ch_type='eeg'),\n",
        "    Preprocessor(custom_rename_channels, mapping=ch_mapping,\n",
        "                 apply_on_array=False),\n",
        "    Preprocessor('pick_channels', ch_names=short_ch_names, ordered=True),\n",
        "    Preprocessor(lambda data: multiply(data, factor), apply_on_array=True),  # Convert from V to uV\n",
        "    Preprocessor(np.clip, a_min=-800, a_max=800, apply_on_array=True),\n",
        "    Preprocessor('resample', sfreq=sfreq),\n",
        "]"
      ]
    },
    {
      "cell_type": "markdown",
      "metadata": {
        "id": "TxXu6dZ9hPJT"
      },
      "source": [
        "Next, we can apply the defined preprocessors on the selected recordings in parallel.\n",
        "We additionally use the serialization functionality of\n",
        ":func:`braindecode.preprocessing.preprocess` to limit memory usage during\n",
        "preprocessing, as each file must be loaded into memory for some of the\n",
        "preprocessing steps to work.\n",
        "This also makes it possible to use the lazy\n",
        "loading capabilities of :class:`braindecode.datasets.BaseConcatDataset`, as\n",
        "the preprocessed data is automatically reloaded with ``preload=False``.\n",
        "\n",
        "<div class=\"alert alert-info\"><h4>Note</h4><p>Here we use ``n_jobs=2`` as the machines the documentation is build on\n",
        "   only have two cores. This number should be modified based on the machine\n",
        "   that is available for preprocessing.</p></div>\n",
        "\n"
      ]
    },
    {
      "cell_type": "code",
      "execution_count": 10,
      "metadata": {
        "id": "5S0ow-85hPJU"
      },
      "outputs": [],
      "source": [
        "OUT_PATH = tempfile.mkdtemp()  # please insert actual output directory here\n",
        "tuh_preproc = preprocess(\n",
        "    concat_ds=tuh,\n",
        "    preprocessors=preprocessors,\n",
        "    n_jobs=N_JOBS,\n",
        "    save_dir=OUT_PATH\n",
        ")"
      ]
    },
    {
      "cell_type": "markdown",
      "metadata": {
        "id": "NjbDTeTIhPJU"
      },
      "source": [
        "### Cut Compute Windows\n",
        "We can finally generate compute windows. The resulting dataset is now ready\n",
        "to be used for model training.\n",
        "\n"
      ]
    },
    {
      "cell_type": "code",
      "execution_count": 11,
      "metadata": {
        "id": "fMfzlDVmhPJU"
      },
      "outputs": [],
      "source": [
        "window_size_samples = 1000\n",
        "window_stride_samples = 1000\n",
        "# Generate compute windows here and store them to disk\n",
        "tuh_windows = create_fixed_length_windows(\n",
        "    tuh_preproc,\n",
        "    window_size_samples=window_size_samples,\n",
        "    window_stride_samples=window_stride_samples,\n",
        "    drop_last_window=False,\n",
        "    n_jobs=N_JOBS,\n",
        ")"
      ]
    }
  ],
  "metadata": {
    "kernelspec": {
      "display_name": "Python 3",
      "language": "python",
      "name": "python3"
    },
    "language_info": {
      "codemirror_mode": {
        "name": "ipython",
        "version": 3
      },
      "file_extension": ".py",
      "mimetype": "text/x-python",
      "name": "python",
      "nbconvert_exporter": "python",
      "pygments_lexer": "ipython3",
      "version": "3.10.12"
    },
    "colab": {
      "provenance": [],
      "include_colab_link": true
    }
  },
  "nbformat": 4,
  "nbformat_minor": 0
}